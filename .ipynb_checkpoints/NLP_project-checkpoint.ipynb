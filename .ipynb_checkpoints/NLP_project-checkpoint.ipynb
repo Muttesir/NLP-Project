{
 "cells": [
  {
   "cell_type": "code",
   "execution_count": 1,
   "id": "895750d6-6fd4-4d12-9da3-78dbe31309aa",
   "metadata": {},
   "outputs": [],
   "source": [
    "import pandas as pd\n",
    "import warnings\n",
    "warnings.filterwarnings('ignore', category=DeprecationWarning)\n",
    "warnings.filterwarnings('ignore', category=FutureWarning)"
   ]
  },
  {
   "cell_type": "code",
   "execution_count": 2,
   "id": "268b2efd-360f-4660-9498-88c630b9a690",
   "metadata": {},
   "outputs": [
    {
     "data": {
      "text/plain": [
       "\"\\nA Scandal in Bohemia! 01\\nThe Red-headed League,2\\nA Case, of Identity 33\\nThe Boscombe Valley Mystery4\\nThe Five Orange Pips1\\nThe Man with? the Twisted Lip\\nThe Adventure of the Blue Carbuncle\\nThe Adventure of the Speckled Band\\nThe Adventure of the Engineer's Thumb\\nThe Adventure of the Noble Bachelor\\nThe Adventure of the Beryl Coronet\\nThe Adventure of the Copper Beeches\""
      ]
     },
     "execution_count": 2,
     "metadata": {},
     "output_type": "execute_result"
    }
   ],
   "source": [
    "text = \"\"\"\n",
    "A Scandal in Bohemia! 01\n",
    "The Red-headed League,2\n",
    "A Case, of Identity 33\n",
    "The Boscombe Valley Mystery4\n",
    "The Five Orange Pips1\n",
    "The Man with? the Twisted Lip\n",
    "The Adventure of the Blue Carbuncle\n",
    "The Adventure of the Speckled Band\n",
    "The Adventure of the Engineer's Thumb\n",
    "The Adventure of the Noble Bachelor\n",
    "The Adventure of the Beryl Coronet\n",
    "The Adventure of the Copper Beeches\"\"\"\n",
    "\n",
    "text"
   ]
  },
  {
   "cell_type": "code",
   "execution_count": 3,
   "id": "7c2689c3-d414-4add-b3e1-fdcf6b281ca8",
   "metadata": {},
   "outputs": [
    {
     "data": {
      "text/plain": [
       "['',\n",
       " 'A Scandal in Bohemia! 01',\n",
       " 'The Red-headed League,2',\n",
       " 'A Case, of Identity 33',\n",
       " 'The Boscombe Valley Mystery4',\n",
       " 'The Five Orange Pips1',\n",
       " 'The Man with? the Twisted Lip',\n",
       " 'The Adventure of the Blue Carbuncle',\n",
       " 'The Adventure of the Speckled Band',\n",
       " \"The Adventure of the Engineer's Thumb\",\n",
       " 'The Adventure of the Noble Bachelor',\n",
       " 'The Adventure of the Beryl Coronet',\n",
       " 'The Adventure of the Copper Beeches']"
      ]
     },
     "execution_count": 3,
     "metadata": {},
     "output_type": "execute_result"
    }
   ],
   "source": [
    "# convert to array\n",
    "m_text=text.split('\\n')\n",
    "m_text"
   ]
  },
  {
   "cell_type": "code",
   "execution_count": 4,
   "id": "06dcdfee-faf3-49b3-8299-c14c35f74f89",
   "metadata": {},
   "outputs": [],
   "source": [
    "ser_tex=pd.Series(m_text)"
   ]
  },
  {
   "cell_type": "code",
   "execution_count": 5,
   "id": "0448a99b-1f92-4738-9f73-5290728289ae",
   "metadata": {},
   "outputs": [
    {
     "data": {
      "text/plain": [
       "0                                          \n",
       "1                  A Scandal in Bohemia! 01\n",
       "2                   The Red-headed League,2\n",
       "3                    A Case, of Identity 33\n",
       "4              The Boscombe Valley Mystery4\n",
       "5                     The Five Orange Pips1\n",
       "6             The Man with? the Twisted Lip\n",
       "7       The Adventure of the Blue Carbuncle\n",
       "8        The Adventure of the Speckled Band\n",
       "9     The Adventure of the Engineer's Thumb\n",
       "10      The Adventure of the Noble Bachelor\n",
       "11       The Adventure of the Beryl Coronet\n",
       "12      The Adventure of the Copper Beeches\n",
       "dtype: object"
      ]
     },
     "execution_count": 5,
     "metadata": {},
     "output_type": "execute_result"
    }
   ],
   "source": [
    "ser_tex"
   ]
  },
  {
   "cell_type": "code",
   "execution_count": 6,
   "id": "1af59ba3-b82a-4aa9-aa0c-a1ed255107ec",
   "metadata": {},
   "outputs": [],
   "source": [
    "m=ser_tex[1:len(ser_tex)]"
   ]
  },
  {
   "cell_type": "code",
   "execution_count": 7,
   "id": "e1ff9024-0890-4839-8fed-e806202c713f",
   "metadata": {},
   "outputs": [],
   "source": [
    "df=pd.DataFrame(m, columns=['stories'])"
   ]
  },
  {
   "cell_type": "code",
   "execution_count": 8,
   "id": "31b37d53-1ce8-47a2-921f-486173c0c780",
   "metadata": {},
   "outputs": [
    {
     "data": {
      "text/html": [
       "<div>\n",
       "<style scoped>\n",
       "    .dataframe tbody tr th:only-of-type {\n",
       "        vertical-align: middle;\n",
       "    }\n",
       "\n",
       "    .dataframe tbody tr th {\n",
       "        vertical-align: top;\n",
       "    }\n",
       "\n",
       "    .dataframe thead th {\n",
       "        text-align: right;\n",
       "    }\n",
       "</style>\n",
       "<table border=\"1\" class=\"dataframe\">\n",
       "  <thead>\n",
       "    <tr style=\"text-align: right;\">\n",
       "      <th></th>\n",
       "      <th>stories</th>\n",
       "    </tr>\n",
       "  </thead>\n",
       "  <tbody>\n",
       "    <tr>\n",
       "      <th>1</th>\n",
       "      <td>A Scandal in Bohemia! 01</td>\n",
       "    </tr>\n",
       "    <tr>\n",
       "      <th>2</th>\n",
       "      <td>The Red-headed League,2</td>\n",
       "    </tr>\n",
       "    <tr>\n",
       "      <th>3</th>\n",
       "      <td>A Case, of Identity 33</td>\n",
       "    </tr>\n",
       "    <tr>\n",
       "      <th>4</th>\n",
       "      <td>The Boscombe Valley Mystery4</td>\n",
       "    </tr>\n",
       "    <tr>\n",
       "      <th>5</th>\n",
       "      <td>The Five Orange Pips1</td>\n",
       "    </tr>\n",
       "    <tr>\n",
       "      <th>6</th>\n",
       "      <td>The Man with? the Twisted Lip</td>\n",
       "    </tr>\n",
       "    <tr>\n",
       "      <th>7</th>\n",
       "      <td>The Adventure of the Blue Carbuncle</td>\n",
       "    </tr>\n",
       "    <tr>\n",
       "      <th>8</th>\n",
       "      <td>The Adventure of the Speckled Band</td>\n",
       "    </tr>\n",
       "    <tr>\n",
       "      <th>9</th>\n",
       "      <td>The Adventure of the Engineer's Thumb</td>\n",
       "    </tr>\n",
       "    <tr>\n",
       "      <th>10</th>\n",
       "      <td>The Adventure of the Noble Bachelor</td>\n",
       "    </tr>\n",
       "    <tr>\n",
       "      <th>11</th>\n",
       "      <td>The Adventure of the Beryl Coronet</td>\n",
       "    </tr>\n",
       "    <tr>\n",
       "      <th>12</th>\n",
       "      <td>The Adventure of the Copper Beeches</td>\n",
       "    </tr>\n",
       "  </tbody>\n",
       "</table>\n",
       "</div>"
      ],
      "text/plain": [
       "                                  stories\n",
       "1                A Scandal in Bohemia! 01\n",
       "2                 The Red-headed League,2\n",
       "3                  A Case, of Identity 33\n",
       "4            The Boscombe Valley Mystery4\n",
       "5                   The Five Orange Pips1\n",
       "6           The Man with? the Twisted Lip\n",
       "7     The Adventure of the Blue Carbuncle\n",
       "8      The Adventure of the Speckled Band\n",
       "9   The Adventure of the Engineer's Thumb\n",
       "10    The Adventure of the Noble Bachelor\n",
       "11     The Adventure of the Beryl Coronet\n",
       "12    The Adventure of the Copper Beeches"
      ]
     },
     "execution_count": 8,
     "metadata": {},
     "output_type": "execute_result"
    }
   ],
   "source": [
    "df"
   ]
  },
  {
   "cell_type": "code",
   "execution_count": 9,
   "id": "a61c915c-dbe9-4189-ae87-90820305c4e6",
   "metadata": {},
   "outputs": [],
   "source": [
    "#Uppercase/Lowercase\n",
    "df1=df.copy()"
   ]
  },
  {
   "cell_type": "code",
   "execution_count": 10,
   "id": "275749cd-5ef2-471f-a1ae-cdcac172359e",
   "metadata": {},
   "outputs": [],
   "source": [
    "df2=df1['stories']=df1['stories'].apply(lambda x: ' '.join(x.lower() for x in x.split()))"
   ]
  },
  {
   "cell_type": "code",
   "execution_count": 11,
   "id": "8e37b172-ed1c-4a51-a02f-05408b6f3dc1",
   "metadata": {},
   "outputs": [
    {
     "data": {
      "text/plain": [
       "1                  a scandal in bohemia 01\n",
       "2                    the redheaded league2\n",
       "3                    a case of identity 33\n",
       "4             the boscombe valley mystery4\n",
       "5                    the five orange pips1\n",
       "6             the man with the twisted lip\n",
       "7      the adventure of the blue carbuncle\n",
       "8       the adventure of the speckled band\n",
       "9     the adventure of the engineers thumb\n",
       "10     the adventure of the noble bachelor\n",
       "11      the adventure of the beryl coronet\n",
       "12     the adventure of the copper beeches\n",
       "Name: stories, dtype: object"
      ]
     },
     "execution_count": 11,
     "metadata": {},
     "output_type": "execute_result"
    }
   ],
   "source": [
    "# Deleting Punctuation Marks\n",
    "df2=df2.str.replace(\"[^\\w\\s]\",\"\")\n",
    "df2"
   ]
  },
  {
   "cell_type": "code",
   "execution_count": 12,
   "id": "de76d081-cd30-4e6a-9eba-bf70d56e3af1",
   "metadata": {},
   "outputs": [
    {
     "data": {
      "text/plain": [
       "1                    a scandal in bohemia \n",
       "2                     the redheaded league\n",
       "3                      a case of identity \n",
       "4              the boscombe valley mystery\n",
       "5                     the five orange pips\n",
       "6             the man with the twisted lip\n",
       "7      the adventure of the blue carbuncle\n",
       "8       the adventure of the speckled band\n",
       "9     the adventure of the engineers thumb\n",
       "10     the adventure of the noble bachelor\n",
       "11      the adventure of the beryl coronet\n",
       "12     the adventure of the copper beeches\n",
       "Name: stories, dtype: object"
      ]
     },
     "execution_count": 12,
     "metadata": {},
     "output_type": "execute_result"
    }
   ],
   "source": [
    "#Deleting Numbers\n",
    "df2=df2.str.replace('\\d','')\n",
    "df2"
   ]
  },
  {
   "cell_type": "markdown",
   "id": "f81547e2-57c1-48af-bdf2-5451248ca344",
   "metadata": {},
   "source": [
    "## Stopword"
   ]
  },
  {
   "cell_type": "code",
   "execution_count": 13,
   "id": "e203a528-72f9-4df2-8153-4609c7690adc",
   "metadata": {},
   "outputs": [
    {
     "data": {
      "text/html": [
       "<div>\n",
       "<style scoped>\n",
       "    .dataframe tbody tr th:only-of-type {\n",
       "        vertical-align: middle;\n",
       "    }\n",
       "\n",
       "    .dataframe tbody tr th {\n",
       "        vertical-align: top;\n",
       "    }\n",
       "\n",
       "    .dataframe thead th {\n",
       "        text-align: right;\n",
       "    }\n",
       "</style>\n",
       "<table border=\"1\" class=\"dataframe\">\n",
       "  <thead>\n",
       "    <tr style=\"text-align: right;\">\n",
       "      <th></th>\n",
       "      <th>stories</th>\n",
       "    </tr>\n",
       "  </thead>\n",
       "  <tbody>\n",
       "    <tr>\n",
       "      <th>1</th>\n",
       "      <td>a scandal in bohemia</td>\n",
       "    </tr>\n",
       "    <tr>\n",
       "      <th>2</th>\n",
       "      <td>the redheaded league</td>\n",
       "    </tr>\n",
       "    <tr>\n",
       "      <th>3</th>\n",
       "      <td>a case of identity</td>\n",
       "    </tr>\n",
       "    <tr>\n",
       "      <th>4</th>\n",
       "      <td>the boscombe valley mystery</td>\n",
       "    </tr>\n",
       "    <tr>\n",
       "      <th>5</th>\n",
       "      <td>the five orange pips</td>\n",
       "    </tr>\n",
       "    <tr>\n",
       "      <th>6</th>\n",
       "      <td>the man with the twisted lip</td>\n",
       "    </tr>\n",
       "    <tr>\n",
       "      <th>7</th>\n",
       "      <td>the adventure of the blue carbuncle</td>\n",
       "    </tr>\n",
       "    <tr>\n",
       "      <th>8</th>\n",
       "      <td>the adventure of the speckled band</td>\n",
       "    </tr>\n",
       "    <tr>\n",
       "      <th>9</th>\n",
       "      <td>the adventure of the engineers thumb</td>\n",
       "    </tr>\n",
       "    <tr>\n",
       "      <th>10</th>\n",
       "      <td>the adventure of the noble bachelor</td>\n",
       "    </tr>\n",
       "    <tr>\n",
       "      <th>11</th>\n",
       "      <td>the adventure of the beryl coronet</td>\n",
       "    </tr>\n",
       "    <tr>\n",
       "      <th>12</th>\n",
       "      <td>the adventure of the copper beeches</td>\n",
       "    </tr>\n",
       "  </tbody>\n",
       "</table>\n",
       "</div>"
      ],
      "text/plain": [
       "                                 stories\n",
       "1                  a scandal in bohemia \n",
       "2                   the redheaded league\n",
       "3                    a case of identity \n",
       "4            the boscombe valley mystery\n",
       "5                   the five orange pips\n",
       "6           the man with the twisted lip\n",
       "7    the adventure of the blue carbuncle\n",
       "8     the adventure of the speckled band\n",
       "9   the adventure of the engineers thumb\n",
       "10   the adventure of the noble bachelor\n",
       "11    the adventure of the beryl coronet\n",
       "12   the adventure of the copper beeches"
      ]
     },
     "execution_count": 13,
     "metadata": {},
     "output_type": "execute_result"
    }
   ],
   "source": [
    "df2=pd.DataFrame(df2,columns=['stories'])\n",
    "df2"
   ]
  },
  {
   "cell_type": "code",
   "execution_count": 14,
   "id": "52b9461a-bfaa-4896-992d-e9fe499116ff",
   "metadata": {},
   "outputs": [],
   "source": [
    "import nltk"
   ]
  },
  {
   "cell_type": "code",
   "execution_count": 15,
   "id": "d333b022-47e6-4691-b8da-8935954060b0",
   "metadata": {},
   "outputs": [
    {
     "name": "stderr",
     "output_type": "stream",
     "text": [
      "[nltk_data] Downloading package stopwords to\n",
      "[nltk_data]     C:\\Users\\mutte\\AppData\\Roaming\\nltk_data...\n",
      "[nltk_data]   Package stopwords is already up-to-date!\n"
     ]
    },
    {
     "data": {
      "text/plain": [
       "True"
      ]
     },
     "execution_count": 15,
     "metadata": {},
     "output_type": "execute_result"
    }
   ],
   "source": [
    "nltk.download('stopwords')"
   ]
  },
  {
   "cell_type": "code",
   "execution_count": 16,
   "id": "42e4a5df-954f-48d5-a0d0-31bf8d8911e7",
   "metadata": {},
   "outputs": [],
   "source": [
    "from nltk.corpus import stopwords"
   ]
  },
  {
   "cell_type": "code",
   "execution_count": 17,
   "id": "09f43d08-301a-4758-8d9a-0fdb58c6beec",
   "metadata": {
    "tags": []
   },
   "outputs": [
    {
     "data": {
      "text/plain": [
       "['i',\n",
       " 'me',\n",
       " 'my',\n",
       " 'myself',\n",
       " 'we',\n",
       " 'our',\n",
       " 'ours',\n",
       " 'ourselves',\n",
       " 'you',\n",
       " \"you're\",\n",
       " \"you've\",\n",
       " \"you'll\",\n",
       " \"you'd\",\n",
       " 'your',\n",
       " 'yours',\n",
       " 'yourself',\n",
       " 'yourselves',\n",
       " 'he',\n",
       " 'him',\n",
       " 'his',\n",
       " 'himself',\n",
       " 'she',\n",
       " \"she's\",\n",
       " 'her',\n",
       " 'hers',\n",
       " 'herself',\n",
       " 'it',\n",
       " \"it's\",\n",
       " 'its',\n",
       " 'itself',\n",
       " 'they',\n",
       " 'them',\n",
       " 'their',\n",
       " 'theirs',\n",
       " 'themselves',\n",
       " 'what',\n",
       " 'which',\n",
       " 'who',\n",
       " 'whom',\n",
       " 'this',\n",
       " 'that',\n",
       " \"that'll\",\n",
       " 'these',\n",
       " 'those',\n",
       " 'am',\n",
       " 'is',\n",
       " 'are',\n",
       " 'was',\n",
       " 'were',\n",
       " 'be',\n",
       " 'been',\n",
       " 'being',\n",
       " 'have',\n",
       " 'has',\n",
       " 'had',\n",
       " 'having',\n",
       " 'do',\n",
       " 'does',\n",
       " 'did',\n",
       " 'doing',\n",
       " 'a',\n",
       " 'an',\n",
       " 'the',\n",
       " 'and',\n",
       " 'but',\n",
       " 'if',\n",
       " 'or',\n",
       " 'because',\n",
       " 'as',\n",
       " 'until',\n",
       " 'while',\n",
       " 'of',\n",
       " 'at',\n",
       " 'by',\n",
       " 'for',\n",
       " 'with',\n",
       " 'about',\n",
       " 'against',\n",
       " 'between',\n",
       " 'into',\n",
       " 'through',\n",
       " 'during',\n",
       " 'before',\n",
       " 'after',\n",
       " 'above',\n",
       " 'below',\n",
       " 'to',\n",
       " 'from',\n",
       " 'up',\n",
       " 'down',\n",
       " 'in',\n",
       " 'out',\n",
       " 'on',\n",
       " 'off',\n",
       " 'over',\n",
       " 'under',\n",
       " 'again',\n",
       " 'further',\n",
       " 'then',\n",
       " 'once',\n",
       " 'here',\n",
       " 'there',\n",
       " 'when',\n",
       " 'where',\n",
       " 'why',\n",
       " 'how',\n",
       " 'all',\n",
       " 'any',\n",
       " 'both',\n",
       " 'each',\n",
       " 'few',\n",
       " 'more',\n",
       " 'most',\n",
       " 'other',\n",
       " 'some',\n",
       " 'such',\n",
       " 'no',\n",
       " 'nor',\n",
       " 'not',\n",
       " 'only',\n",
       " 'own',\n",
       " 'same',\n",
       " 'so',\n",
       " 'than',\n",
       " 'too',\n",
       " 'very',\n",
       " 's',\n",
       " 't',\n",
       " 'can',\n",
       " 'will',\n",
       " 'just',\n",
       " 'don',\n",
       " \"don't\",\n",
       " 'should',\n",
       " \"should've\",\n",
       " 'now',\n",
       " 'd',\n",
       " 'll',\n",
       " 'm',\n",
       " 'o',\n",
       " 're',\n",
       " 've',\n",
       " 'y',\n",
       " 'ain',\n",
       " 'aren',\n",
       " \"aren't\",\n",
       " 'couldn',\n",
       " \"couldn't\",\n",
       " 'didn',\n",
       " \"didn't\",\n",
       " 'doesn',\n",
       " \"doesn't\",\n",
       " 'hadn',\n",
       " \"hadn't\",\n",
       " 'hasn',\n",
       " \"hasn't\",\n",
       " 'haven',\n",
       " \"haven't\",\n",
       " 'isn',\n",
       " \"isn't\",\n",
       " 'ma',\n",
       " 'mightn',\n",
       " \"mightn't\",\n",
       " 'mustn',\n",
       " \"mustn't\",\n",
       " 'needn',\n",
       " \"needn't\",\n",
       " 'shan',\n",
       " \"shan't\",\n",
       " 'shouldn',\n",
       " \"shouldn't\",\n",
       " 'wasn',\n",
       " \"wasn't\",\n",
       " 'weren',\n",
       " \"weren't\",\n",
       " 'won',\n",
       " \"won't\",\n",
       " 'wouldn',\n",
       " \"wouldn't\"]"
      ]
     },
     "execution_count": 17,
     "metadata": {},
     "output_type": "execute_result"
    }
   ],
   "source": [
    "sw=stopwords.words('english')\n",
    "sw"
   ]
  },
  {
   "cell_type": "code",
   "execution_count": 18,
   "id": "6c30649b-19ad-453c-bb64-8fe1cc39e1e2",
   "metadata": {},
   "outputs": [
    {
     "data": {
      "text/plain": [
       "1               scandal bohemia\n",
       "2              redheaded league\n",
       "3                 case identity\n",
       "4       boscombe valley mystery\n",
       "5              five orange pips\n",
       "6               man twisted lip\n",
       "7      adventure blue carbuncle\n",
       "8       adventure speckled band\n",
       "9     adventure engineers thumb\n",
       "10     adventure noble bachelor\n",
       "11      adventure beryl coronet\n",
       "12     adventure copper beeches\n",
       "Name: stories, dtype: object"
      ]
     },
     "execution_count": 18,
     "metadata": {},
     "output_type": "execute_result"
    }
   ],
   "source": [
    "df2=df2['stories'].apply(lambda x: ' '.join(x for x in x.split() if x not in sw))\n",
    "df2"
   ]
  },
  {
   "cell_type": "code",
   "execution_count": 19,
   "id": "4a07587f-8103-4c26-b673-27300efde380",
   "metadata": {},
   "outputs": [
    {
     "data": {
      "text/plain": [
       "pandas.core.series.Series"
      ]
     },
     "execution_count": 19,
     "metadata": {},
     "output_type": "execute_result"
    }
   ],
   "source": [
    "## Deleting Rare Words \n",
    "type(df2)"
   ]
  },
  {
   "cell_type": "code",
   "execution_count": 20,
   "id": "5c211826-fa99-4403-8e46-70e4c4159474",
   "metadata": {},
   "outputs": [
    {
     "data": {
      "text/html": [
       "<div>\n",
       "<style scoped>\n",
       "    .dataframe tbody tr th:only-of-type {\n",
       "        vertical-align: middle;\n",
       "    }\n",
       "\n",
       "    .dataframe tbody tr th {\n",
       "        vertical-align: top;\n",
       "    }\n",
       "\n",
       "    .dataframe thead th {\n",
       "        text-align: right;\n",
       "    }\n",
       "</style>\n",
       "<table border=\"1\" class=\"dataframe\">\n",
       "  <thead>\n",
       "    <tr style=\"text-align: right;\">\n",
       "      <th></th>\n",
       "      <th>stories</th>\n",
       "    </tr>\n",
       "  </thead>\n",
       "  <tbody>\n",
       "    <tr>\n",
       "      <th>1</th>\n",
       "      <td>scandal bohemia</td>\n",
       "    </tr>\n",
       "    <tr>\n",
       "      <th>2</th>\n",
       "      <td>redheaded league</td>\n",
       "    </tr>\n",
       "    <tr>\n",
       "      <th>3</th>\n",
       "      <td>case identity</td>\n",
       "    </tr>\n",
       "    <tr>\n",
       "      <th>4</th>\n",
       "      <td>boscombe valley mystery</td>\n",
       "    </tr>\n",
       "    <tr>\n",
       "      <th>5</th>\n",
       "      <td>five orange pips</td>\n",
       "    </tr>\n",
       "    <tr>\n",
       "      <th>6</th>\n",
       "      <td>man twisted lip</td>\n",
       "    </tr>\n",
       "    <tr>\n",
       "      <th>7</th>\n",
       "      <td>adventure blue carbuncle</td>\n",
       "    </tr>\n",
       "    <tr>\n",
       "      <th>8</th>\n",
       "      <td>adventure speckled band</td>\n",
       "    </tr>\n",
       "    <tr>\n",
       "      <th>9</th>\n",
       "      <td>adventure engineers thumb</td>\n",
       "    </tr>\n",
       "    <tr>\n",
       "      <th>10</th>\n",
       "      <td>adventure noble bachelor</td>\n",
       "    </tr>\n",
       "    <tr>\n",
       "      <th>11</th>\n",
       "      <td>adventure beryl coronet</td>\n",
       "    </tr>\n",
       "    <tr>\n",
       "      <th>12</th>\n",
       "      <td>adventure copper beeches</td>\n",
       "    </tr>\n",
       "  </tbody>\n",
       "</table>\n",
       "</div>"
      ],
      "text/plain": [
       "                      stories\n",
       "1             scandal bohemia\n",
       "2            redheaded league\n",
       "3               case identity\n",
       "4     boscombe valley mystery\n",
       "5            five orange pips\n",
       "6             man twisted lip\n",
       "7    adventure blue carbuncle\n",
       "8     adventure speckled band\n",
       "9   adventure engineers thumb\n",
       "10   adventure noble bachelor\n",
       "11    adventure beryl coronet\n",
       "12   adventure copper beeches"
      ]
     },
     "execution_count": 20,
     "metadata": {},
     "output_type": "execute_result"
    }
   ],
   "source": [
    "df2=pd.DataFrame(df2, columns=['stories'])\n",
    "df2"
   ]
  },
  {
   "cell_type": "code",
   "execution_count": 21,
   "id": "9b886314-4726-4d05-85db-0b4fa023cec7",
   "metadata": {},
   "outputs": [
    {
     "data": {
      "text/plain": [
       "league       1\n",
       "redheaded    1\n",
       "beeches      1\n",
       "dtype: int64"
      ]
     },
     "execution_count": 21,
     "metadata": {},
     "output_type": "execute_result"
    }
   ],
   "source": [
    "delete=pd.Series(' '.join(df2['stories']).split()).value_counts()[-3:]\n",
    "delete"
   ]
  },
  {
   "cell_type": "code",
   "execution_count": 22,
   "id": "41e9826e-f376-479d-8305-985e0daa542a",
   "metadata": {},
   "outputs": [
    {
     "data": {
      "text/plain": [
       "1               scandal bohemia\n",
       "2                              \n",
       "3                 case identity\n",
       "4       boscombe valley mystery\n",
       "5              five orange pips\n",
       "6               man twisted lip\n",
       "7      adventure blue carbuncle\n",
       "8       adventure speckled band\n",
       "9     adventure engineers thumb\n",
       "10     adventure noble bachelor\n",
       "11      adventure beryl coronet\n",
       "12             adventure copper\n",
       "Name: stories, dtype: object"
      ]
     },
     "execution_count": 22,
     "metadata": {},
     "output_type": "execute_result"
    }
   ],
   "source": [
    "df2['stories'].apply(lambda x: ' '.join(i for i in x.split() if i not in delete))\n"
   ]
  },
  {
   "cell_type": "markdown",
   "id": "266a43c1-c9e4-406a-a549-310dfff5aefa",
   "metadata": {},
   "source": [
    "## Tokenization"
   ]
  },
  {
   "cell_type": "code",
   "execution_count": 23,
   "id": "0565568e-133d-441f-9b20-186a85f14efc",
   "metadata": {},
   "outputs": [
    {
     "name": "stderr",
     "output_type": "stream",
     "text": [
      "[nltk_data] Downloading package punkt to\n",
      "[nltk_data]     C:\\Users\\mutte\\AppData\\Roaming\\nltk_data...\n",
      "[nltk_data]   Package punkt is already up-to-date!\n"
     ]
    },
    {
     "data": {
      "text/plain": [
       "True"
      ]
     },
     "execution_count": 23,
     "metadata": {},
     "output_type": "execute_result"
    }
   ],
   "source": [
    "nltk.download(\"punkt\")"
   ]
  },
  {
   "cell_type": "code",
   "execution_count": 24,
   "id": "8c6e61e5-2dec-4a7e-918b-fa0b6e94a35f",
   "metadata": {
    "tags": []
   },
   "outputs": [
    {
     "name": "stdout",
     "output_type": "stream",
     "text": [
      "Requirement already satisfied: textblob in c:\\anaconda\\lib\\site-packages (0.17.1)\n",
      "Requirement already satisfied: nltk>=3.1 in c:\\anaconda\\lib\\site-packages (from textblob) (3.6.5)\n",
      "Requirement already satisfied: click in c:\\anaconda\\lib\\site-packages (from nltk>=3.1->textblob) (8.0.3)\n",
      "Requirement already satisfied: joblib in c:\\anaconda\\lib\\site-packages (from nltk>=3.1->textblob) (1.1.0)\n",
      "Requirement already satisfied: regex>=2021.8.3 in c:\\anaconda\\lib\\site-packages (from nltk>=3.1->textblob) (2021.8.3)\n",
      "Requirement already satisfied: tqdm in c:\\anaconda\\lib\\site-packages (from nltk>=3.1->textblob) (4.62.3)\n",
      "Requirement already satisfied: colorama in c:\\anaconda\\lib\\site-packages (from click->nltk>=3.1->textblob) (0.4.4)\n"
     ]
    }
   ],
   "source": [
    "!pip install textblob"
   ]
  },
  {
   "cell_type": "code",
   "execution_count": 25,
   "id": "02e396e4-620a-40a7-8497-fe0646f69b0e",
   "metadata": {},
   "outputs": [],
   "source": [
    "import textblob"
   ]
  },
  {
   "cell_type": "code",
   "execution_count": 26,
   "id": "a761deab-247c-477c-9b8a-a3dbb499fb13",
   "metadata": {},
   "outputs": [],
   "source": [
    "from textblob import TextBlob"
   ]
  },
  {
   "cell_type": "code",
   "execution_count": 27,
   "id": "0d5975ae-65e6-4a86-9ede-4be6d4681653",
   "metadata": {},
   "outputs": [
    {
     "data": {
      "text/plain": [
       "WordList(['scandal', 'bohemia'])"
      ]
     },
     "execution_count": 27,
     "metadata": {},
     "output_type": "execute_result"
    }
   ],
   "source": [
    "TextBlob(df2['stories'][1]).words"
   ]
  },
  {
   "cell_type": "code",
   "execution_count": 28,
   "id": "8bc44e0f-b16b-4455-9afb-909746ff63e8",
   "metadata": {},
   "outputs": [
    {
     "data": {
      "text/plain": [
       "1                [scandal, bohemia]\n",
       "2               [redheaded, league]\n",
       "3                  [case, identity]\n",
       "4       [boscombe, valley, mystery]\n",
       "5              [five, orange, pips]\n",
       "6               [man, twisted, lip]\n",
       "7      [adventure, blue, carbuncle]\n",
       "8       [adventure, speckled, band]\n",
       "9     [adventure, engineers, thumb]\n",
       "10     [adventure, noble, bachelor]\n",
       "11      [adventure, beryl, coronet]\n",
       "12     [adventure, copper, beeches]\n",
       "Name: stories, dtype: object"
      ]
     },
     "execution_count": 28,
     "metadata": {},
     "output_type": "execute_result"
    }
   ],
   "source": [
    "df2['stories'].apply(lambda x: TextBlob(x).words)"
   ]
  },
  {
   "cell_type": "markdown",
   "id": "3dc6d730-be36-43e6-a416-3adffa990e97",
   "metadata": {},
   "source": [
    "## Stemming"
   ]
  },
  {
   "cell_type": "code",
   "execution_count": 29,
   "id": "9088584e-52df-4ba8-af50-e4ed81d4af01",
   "metadata": {},
   "outputs": [],
   "source": [
    "from nltk.stem import PorterStemmer\n",
    "st = PorterStemmer()"
   ]
  },
  {
   "cell_type": "code",
   "execution_count": 30,
   "id": "1aa1a6ae-91a4-45ab-a0bf-5e931ae9ec7d",
   "metadata": {},
   "outputs": [
    {
     "data": {
      "text/plain": [
       "1            scandal bohemia\n",
       "2              redhead leagu\n",
       "3                 case ident\n",
       "4     boscomb valley mysteri\n",
       "5             five orang pip\n",
       "6              man twist lip\n",
       "7     adventur blue carbuncl\n",
       "8       adventur speckl band\n",
       "9       adventur engin thumb\n",
       "10    adventur nobl bachelor\n",
       "11    adventur beryl coronet\n",
       "12     adventur copper beech\n",
       "Name: stories, dtype: object"
      ]
     },
     "execution_count": 30,
     "metadata": {},
     "output_type": "execute_result"
    }
   ],
   "source": [
    "df2[\"stories\"].apply(lambda x: \" \".join([st.stem(word) for word in x.split()]))"
   ]
  },
  {
   "cell_type": "markdown",
   "id": "915d55e0-546d-43dd-a0bd-b84720de571e",
   "metadata": {},
   "source": [
    "## Lemmatization"
   ]
  },
  {
   "cell_type": "code",
   "execution_count": 31,
   "id": "c31ff6e1-8a4a-4e66-bb32-494bacbfb994",
   "metadata": {},
   "outputs": [
    {
     "name": "stderr",
     "output_type": "stream",
     "text": [
      "[nltk_data] Downloading package wordnet to\n",
      "[nltk_data]     C:\\Users\\mutte\\AppData\\Roaming\\nltk_data...\n",
      "[nltk_data]   Package wordnet is already up-to-date!\n"
     ]
    },
    {
     "data": {
      "text/plain": [
       "True"
      ]
     },
     "execution_count": 31,
     "metadata": {},
     "output_type": "execute_result"
    }
   ],
   "source": [
    "from textblob import Word\n",
    "nltk.download(\"wordnet\")"
   ]
  },
  {
   "cell_type": "code",
   "execution_count": 32,
   "id": "f7d8ef14-8f4b-4919-b4a3-5e0e22e828f5",
   "metadata": {},
   "outputs": [
    {
     "data": {
      "text/plain": [
       "1              scandal bohemia\n",
       "2             redheaded league\n",
       "3                case identity\n",
       "4      boscombe valley mystery\n",
       "5              five orange pip\n",
       "6              man twisted lip\n",
       "7     adventure blue carbuncle\n",
       "8      adventure speckled band\n",
       "9     adventure engineer thumb\n",
       "10    adventure noble bachelor\n",
       "11     adventure beryl coronet\n",
       "12      adventure copper beech\n",
       "Name: stories, dtype: object"
      ]
     },
     "execution_count": 32,
     "metadata": {},
     "output_type": "execute_result"
    }
   ],
   "source": [
    "df2['stories'].apply(lambda x: \" \".join([Word(word).lemmatize() for word in x.split()]))"
   ]
  },
  {
   "cell_type": "code",
   "execution_count": 33,
   "id": "9e15f925-ac83-488f-847b-31c4988b999c",
   "metadata": {},
   "outputs": [
    {
     "data": {
      "text/plain": [
       "1                  A Scandal in Bohemia! 01\n",
       "2                   The Red-headed League,2\n",
       "3                    A Case, of Identity 33\n",
       "4              The Boscombe Valley Mystery4\n",
       "5                     The Five Orange Pips1\n",
       "6             The Man with? the Twisted Lip\n",
       "7       The Adventure of the Blue Carbuncle\n",
       "8        The Adventure of the Speckled Band\n",
       "9     The Adventure of the Engineer's Thumb\n",
       "10      The Adventure of the Noble Bachelor\n",
       "11       The Adventure of the Beryl Coronet\n",
       "12      The Adventure of the Copper Beeches\n",
       "Name: stories, dtype: object"
      ]
     },
     "execution_count": 33,
     "metadata": {},
     "output_type": "execute_result"
    }
   ],
   "source": [
    "df['stories']"
   ]
  },
  {
   "cell_type": "code",
   "execution_count": 34,
   "id": "d2ea2647-098c-4da6-84de-c257a8392acf",
   "metadata": {},
   "outputs": [
    {
     "data": {
      "text/plain": [
       "1               scandal bohemia\n",
       "2              redheaded league\n",
       "3                 case identity\n",
       "4       boscombe valley mystery\n",
       "5              five orange pips\n",
       "6               man twisted lip\n",
       "7      adventure blue carbuncle\n",
       "8       adventure speckled band\n",
       "9     adventure engineers thumb\n",
       "10     adventure noble bachelor\n",
       "11      adventure beryl coronet\n",
       "12     adventure copper beeches\n",
       "Name: stories, dtype: object"
      ]
     },
     "execution_count": 34,
     "metadata": {},
     "output_type": "execute_result"
    }
   ],
   "source": [
    "df2['stories']"
   ]
  },
  {
   "cell_type": "markdown",
   "id": "70541e1e-cb93-4898-b805-96457fcd5811",
   "metadata": {},
   "source": [
    "# NLP implementation\n"
   ]
  },
  {
   "cell_type": "markdown",
   "id": "8493bf8b-de73-49f1-91a0-ac1a777b9727",
   "metadata": {},
   "source": [
    "## N-gram"
   ]
  },
  {
   "cell_type": "code",
   "execution_count": 35,
   "id": "56c57c37-2739-4bfc-aa39-f80729b3b01c",
   "metadata": {},
   "outputs": [],
   "source": [
    "t='''An N-gram language model predicts the probability of a given N-gram within any sequence of words in the language. \n",
    "A good N-gram model can predict the next word in the sentence '''"
   ]
  },
  {
   "cell_type": "code",
   "execution_count": 36,
   "id": "9df932ef-34c6-4c2e-be73-f8170a35f386",
   "metadata": {},
   "outputs": [
    {
     "data": {
      "text/plain": [
       "[WordList(['An', 'N-gram', 'language', 'model', 'predicts']),\n",
       " WordList(['N-gram', 'language', 'model', 'predicts', 'the']),\n",
       " WordList(['language', 'model', 'predicts', 'the', 'probability']),\n",
       " WordList(['model', 'predicts', 'the', 'probability', 'of']),\n",
       " WordList(['predicts', 'the', 'probability', 'of', 'a']),\n",
       " WordList(['the', 'probability', 'of', 'a', 'given']),\n",
       " WordList(['probability', 'of', 'a', 'given', 'N-gram']),\n",
       " WordList(['of', 'a', 'given', 'N-gram', 'within']),\n",
       " WordList(['a', 'given', 'N-gram', 'within', 'any']),\n",
       " WordList(['given', 'N-gram', 'within', 'any', 'sequence']),\n",
       " WordList(['N-gram', 'within', 'any', 'sequence', 'of']),\n",
       " WordList(['within', 'any', 'sequence', 'of', 'words']),\n",
       " WordList(['any', 'sequence', 'of', 'words', 'in']),\n",
       " WordList(['sequence', 'of', 'words', 'in', 'the']),\n",
       " WordList(['of', 'words', 'in', 'the', 'language']),\n",
       " WordList(['words', 'in', 'the', 'language', 'A']),\n",
       " WordList(['in', 'the', 'language', 'A', 'good']),\n",
       " WordList(['the', 'language', 'A', 'good', 'N-gram']),\n",
       " WordList(['language', 'A', 'good', 'N-gram', 'model']),\n",
       " WordList(['A', 'good', 'N-gram', 'model', 'can']),\n",
       " WordList(['good', 'N-gram', 'model', 'can', 'predict']),\n",
       " WordList(['N-gram', 'model', 'can', 'predict', 'the']),\n",
       " WordList(['model', 'can', 'predict', 'the', 'next']),\n",
       " WordList(['can', 'predict', 'the', 'next', 'word']),\n",
       " WordList(['predict', 'the', 'next', 'word', 'in']),\n",
       " WordList(['the', 'next', 'word', 'in', 'the']),\n",
       " WordList(['next', 'word', 'in', 'the', 'sentence'])]"
      ]
     },
     "execution_count": 36,
     "metadata": {},
     "output_type": "execute_result"
    }
   ],
   "source": [
    "TextBlob(t).ngrams(5)"
   ]
  },
  {
   "cell_type": "markdown",
   "id": "be81aaba-2112-4c3a-a3e9-7ca1e7138f0b",
   "metadata": {},
   "source": [
    "## Part of speech tagging (POS)"
   ]
  },
  {
   "cell_type": "code",
   "execution_count": 37,
   "id": "8d123464-9998-4f0f-b7f6-b4cab90a775a",
   "metadata": {},
   "outputs": [
    {
     "name": "stderr",
     "output_type": "stream",
     "text": [
      "[nltk_data] Downloading package averaged_perceptron_tagger to\n",
      "[nltk_data]     C:\\Users\\mutte\\AppData\\Roaming\\nltk_data...\n",
      "[nltk_data]   Package averaged_perceptron_tagger is already up-to-\n",
      "[nltk_data]       date!\n"
     ]
    },
    {
     "data": {
      "text/plain": [
       "True"
      ]
     },
     "execution_count": 37,
     "metadata": {},
     "output_type": "execute_result"
    }
   ],
   "source": [
    "nltk.download(\"averaged_perceptron_tagger\")"
   ]
  },
  {
   "cell_type": "code",
   "execution_count": 38,
   "id": "61e3c5ce-dbdf-4564-8e62-7701910ae20e",
   "metadata": {},
   "outputs": [
    {
     "data": {
      "text/plain": [
       "[('redheaded', 'VBN'), ('league', 'NN')]"
      ]
     },
     "execution_count": 38,
     "metadata": {},
     "output_type": "execute_result"
    }
   ],
   "source": [
    "TextBlob(df2[\"stories\"][2]).tags"
   ]
  },
  {
   "cell_type": "code",
   "execution_count": 39,
   "id": "1ddabd2e-b8fc-43ee-8e15-08435c5cfdf3",
   "metadata": {},
   "outputs": [
    {
     "data": {
      "text/plain": [
       "1                        [(scandal, NN), (bohemia, NN)]\n",
       "2                      [(redheaded, VBN), (league, NN)]\n",
       "3                          [(case, NN), (identity, NN)]\n",
       "4         [(boscombe, NN), (valley, NN), (mystery, NN)]\n",
       "5               [(five, CD), (orange, NN), (pips, NNS)]\n",
       "6                [(man, NN), (twisted, VBD), (lip, NN)]\n",
       "7        [(adventure, NN), (blue, JJ), (carbuncle, NN)]\n",
       "8        [(adventure, NN), (speckled, VBD), (band, NN)]\n",
       "9     [(adventure, NN), (engineers, NNS), (thumb, VBP)]\n",
       "10       [(adventure, NN), (noble, JJ), (bachelor, NN)]\n",
       "11        [(adventure, NN), (beryl, NN), (coronet, NN)]\n",
       "12      [(adventure, NN), (copper, NN), (beeches, NNS)]\n",
       "Name: stories, dtype: object"
      ]
     },
     "execution_count": 39,
     "metadata": {},
     "output_type": "execute_result"
    }
   ],
   "source": [
    "df2[\"stories\"].apply(lambda x: TextBlob(x).tags)"
   ]
  },
  {
   "cell_type": "markdown",
   "id": "e2d44b9d-1111-4c53-aa5b-6fc226a3db6b",
   "metadata": {},
   "source": [
    "## Chunking (shallow parsing)"
   ]
  },
  {
   "cell_type": "code",
   "execution_count": 40,
   "id": "6cf79980-9b5f-4b7c-8b09-214165b5a3e8",
   "metadata": {},
   "outputs": [],
   "source": [
    "pos=df2[\"stories\"].apply(lambda x: TextBlob(x).tags)"
   ]
  },
  {
   "cell_type": "code",
   "execution_count": 41,
   "id": "3629ece6-03b4-4b98-88b1-cac4a72219f8",
   "metadata": {},
   "outputs": [],
   "source": [
    "sen = \"R and Python are useful data science tools for the new or old data scientists who eager to do efficent data science task\""
   ]
  },
  {
   "cell_type": "code",
   "execution_count": 42,
   "id": "2f0b5d93-d4d2-4ec1-ac76-eed89d4ff5fb",
   "metadata": {},
   "outputs": [],
   "source": [
    "pos = TextBlob(sen).tags"
   ]
  },
  {
   "cell_type": "code",
   "execution_count": 43,
   "id": "33cc649d-6550-4b86-9683-c6046a1db0dc",
   "metadata": {},
   "outputs": [
    {
     "data": {
      "text/plain": [
       "[('R', 'NNP'),\n",
       " ('and', 'CC'),\n",
       " ('Python', 'NNP'),\n",
       " ('are', 'VBP'),\n",
       " ('useful', 'JJ'),\n",
       " ('data', 'NNS'),\n",
       " ('science', 'NN'),\n",
       " ('tools', 'NNS'),\n",
       " ('for', 'IN'),\n",
       " ('the', 'DT'),\n",
       " ('new', 'JJ'),\n",
       " ('or', 'CC'),\n",
       " ('old', 'JJ'),\n",
       " ('data', 'NNS'),\n",
       " ('scientists', 'NNS'),\n",
       " ('who', 'WP'),\n",
       " ('eager', 'VBP'),\n",
       " ('to', 'TO'),\n",
       " ('do', 'VB'),\n",
       " ('efficent', 'JJ'),\n",
       " ('data', 'NNS'),\n",
       " ('science', 'NN'),\n",
       " ('task', 'NN')]"
      ]
     },
     "execution_count": 43,
     "metadata": {},
     "output_type": "execute_result"
    }
   ],
   "source": [
    "pos"
   ]
  },
  {
   "cell_type": "code",
   "execution_count": 44,
   "id": "148891c4-f1d4-4fa1-87f7-013cae409ef0",
   "metadata": {},
   "outputs": [],
   "source": [
    "reg_exp = \"NP: {<DT>?<JJ>*<NN>}\"\n",
    "rp = nltk.RegexpParser(reg_exp)"
   ]
  },
  {
   "cell_type": "code",
   "execution_count": 45,
   "id": "d26eec7d-4a04-4bb9-b541-3a3a7898d8c9",
   "metadata": {},
   "outputs": [],
   "source": [
    "result = rp.parse(pos)"
   ]
  },
  {
   "cell_type": "code",
   "execution_count": 46,
   "id": "416a09a0-5213-4792-8fc0-016392dc2f9c",
   "metadata": {},
   "outputs": [
    {
     "name": "stdout",
     "output_type": "stream",
     "text": [
      "(S\n",
      "  R/NNP\n",
      "  and/CC\n",
      "  Python/NNP\n",
      "  are/VBP\n",
      "  useful/JJ\n",
      "  data/NNS\n",
      "  (NP science/NN)\n",
      "  tools/NNS\n",
      "  for/IN\n",
      "  the/DT\n",
      "  new/JJ\n",
      "  or/CC\n",
      "  old/JJ\n",
      "  data/NNS\n",
      "  scientists/NNS\n",
      "  who/WP\n",
      "  eager/VBP\n",
      "  to/TO\n",
      "  do/VB\n",
      "  efficent/JJ\n",
      "  data/NNS\n",
      "  (NP science/NN)\n",
      "  (NP task/NN))\n"
     ]
    }
   ],
   "source": [
    "print(result)"
   ]
  },
  {
   "cell_type": "code",
   "execution_count": 47,
   "id": "a292dfee-6385-401a-9096-005162e07f6c",
   "metadata": {},
   "outputs": [],
   "source": [
    "result.draw()"
   ]
  },
  {
   "cell_type": "markdown",
   "id": "6910d75c-18cf-4e53-8679-c53664e83321",
   "metadata": {},
   "source": [
    "## Named Entity Recognition"
   ]
  },
  {
   "cell_type": "code",
   "execution_count": 48,
   "id": "8739d8cd-3c44-4a38-8b43-ffa5bd2f2d27",
   "metadata": {},
   "outputs": [
    {
     "name": "stderr",
     "output_type": "stream",
     "text": [
      "[nltk_data] Downloading package maxent_ne_chunker to\n",
      "[nltk_data]     C:\\Users\\mutte\\AppData\\Roaming\\nltk_data...\n",
      "[nltk_data]   Package maxent_ne_chunker is already up-to-date!\n",
      "[nltk_data] Downloading package words to\n",
      "[nltk_data]     C:\\Users\\mutte\\AppData\\Roaming\\nltk_data...\n",
      "[nltk_data]   Package words is already up-to-date!\n"
     ]
    },
    {
     "data": {
      "text/plain": [
       "True"
      ]
     },
     "execution_count": 48,
     "metadata": {},
     "output_type": "execute_result"
    }
   ],
   "source": [
    "from nltk import word_tokenize, pos_tag, ne_chunk\n",
    "nltk.download('maxent_ne_chunker')\n",
    "nltk.download('words')"
   ]
  },
  {
   "cell_type": "code",
   "execution_count": 49,
   "id": "3ae96e6f-677f-46ee-9d68-6b24d53ba10b",
   "metadata": {},
   "outputs": [
    {
     "name": "stdout",
     "output_type": "stream",
     "text": [
      "(S\n",
      "  (GPE Python/NNP)\n",
      "  is/VBZ\n",
      "  a/DT\n",
      "  computer/NN\n",
      "  programming/VBG\n",
      "  language/NN\n",
      "  often/RB\n",
      "  used/VBN\n",
      "  to/TO\n",
      "  build/VB\n",
      "  websites/NNS\n",
      "  and/CC\n",
      "  software/NN\n",
      "  ,/,\n",
      "  automate/NN\n",
      "  tasks/NNS\n",
      "  ,/,\n",
      "  and/CC\n",
      "  conduct/NN\n",
      "  data/NNS\n",
      "  analysis/NN)\n"
     ]
    }
   ],
   "source": [
    "sentence = \"Python is a computer programming language often used to build websites and software, automate tasks, and conduct data analysis\"\n",
    "print(ne_chunk(pos_tag(word_tokenize(sentence))))"
   ]
  },
  {
   "cell_type": "markdown",
   "id": "fd5a1f02-4871-4635-9641-dea45236db76",
   "metadata": {},
   "source": [
    "## Mathematical Operations and Simple Feature Extraction"
   ]
  },
  {
   "cell_type": "markdown",
   "id": "716491e7-2c68-490b-ba89-372f7e08f74c",
   "metadata": {},
   "source": [
    "## Number of Letters/Characters"
   ]
  },
  {
   "cell_type": "code",
   "execution_count": 50,
   "id": "cace5bd0-d87b-4f9c-8466-aa5d55c858a3",
   "metadata": {},
   "outputs": [],
   "source": [
    "df3=df2.copy()"
   ]
  },
  {
   "cell_type": "code",
   "execution_count": 51,
   "id": "52b628d3-fef3-4a30-8b99-885bf9e23dd7",
   "metadata": {},
   "outputs": [],
   "source": [
    "df3['num_letter']=df3['stories'].str.len()"
   ]
  },
  {
   "cell_type": "code",
   "execution_count": 52,
   "id": "a0e7b513-471b-4211-a6bd-0391a88b5b99",
   "metadata": {},
   "outputs": [
    {
     "data": {
      "text/html": [
       "<div>\n",
       "<style scoped>\n",
       "    .dataframe tbody tr th:only-of-type {\n",
       "        vertical-align: middle;\n",
       "    }\n",
       "\n",
       "    .dataframe tbody tr th {\n",
       "        vertical-align: top;\n",
       "    }\n",
       "\n",
       "    .dataframe thead th {\n",
       "        text-align: right;\n",
       "    }\n",
       "</style>\n",
       "<table border=\"1\" class=\"dataframe\">\n",
       "  <thead>\n",
       "    <tr style=\"text-align: right;\">\n",
       "      <th></th>\n",
       "      <th>stories</th>\n",
       "      <th>num_letter</th>\n",
       "    </tr>\n",
       "  </thead>\n",
       "  <tbody>\n",
       "    <tr>\n",
       "      <th>1</th>\n",
       "      <td>scandal bohemia</td>\n",
       "      <td>15</td>\n",
       "    </tr>\n",
       "    <tr>\n",
       "      <th>2</th>\n",
       "      <td>redheaded league</td>\n",
       "      <td>16</td>\n",
       "    </tr>\n",
       "    <tr>\n",
       "      <th>3</th>\n",
       "      <td>case identity</td>\n",
       "      <td>13</td>\n",
       "    </tr>\n",
       "    <tr>\n",
       "      <th>4</th>\n",
       "      <td>boscombe valley mystery</td>\n",
       "      <td>23</td>\n",
       "    </tr>\n",
       "    <tr>\n",
       "      <th>5</th>\n",
       "      <td>five orange pips</td>\n",
       "      <td>16</td>\n",
       "    </tr>\n",
       "    <tr>\n",
       "      <th>6</th>\n",
       "      <td>man twisted lip</td>\n",
       "      <td>15</td>\n",
       "    </tr>\n",
       "    <tr>\n",
       "      <th>7</th>\n",
       "      <td>adventure blue carbuncle</td>\n",
       "      <td>24</td>\n",
       "    </tr>\n",
       "    <tr>\n",
       "      <th>8</th>\n",
       "      <td>adventure speckled band</td>\n",
       "      <td>23</td>\n",
       "    </tr>\n",
       "    <tr>\n",
       "      <th>9</th>\n",
       "      <td>adventure engineers thumb</td>\n",
       "      <td>25</td>\n",
       "    </tr>\n",
       "    <tr>\n",
       "      <th>10</th>\n",
       "      <td>adventure noble bachelor</td>\n",
       "      <td>24</td>\n",
       "    </tr>\n",
       "    <tr>\n",
       "      <th>11</th>\n",
       "      <td>adventure beryl coronet</td>\n",
       "      <td>23</td>\n",
       "    </tr>\n",
       "    <tr>\n",
       "      <th>12</th>\n",
       "      <td>adventure copper beeches</td>\n",
       "      <td>24</td>\n",
       "    </tr>\n",
       "  </tbody>\n",
       "</table>\n",
       "</div>"
      ],
      "text/plain": [
       "                      stories  num_letter\n",
       "1             scandal bohemia          15\n",
       "2            redheaded league          16\n",
       "3               case identity          13\n",
       "4     boscombe valley mystery          23\n",
       "5            five orange pips          16\n",
       "6             man twisted lip          15\n",
       "7    adventure blue carbuncle          24\n",
       "8     adventure speckled band          23\n",
       "9   adventure engineers thumb          25\n",
       "10   adventure noble bachelor          24\n",
       "11    adventure beryl coronet          23\n",
       "12   adventure copper beeches          24"
      ]
     },
     "execution_count": 52,
     "metadata": {},
     "output_type": "execute_result"
    }
   ],
   "source": [
    "df3"
   ]
  },
  {
   "cell_type": "markdown",
   "id": "e08f0b05-2a84-43f1-b37b-0edf440ed80b",
   "metadata": {},
   "source": [
    "## Word Count"
   ]
  },
  {
   "cell_type": "code",
   "execution_count": 53,
   "id": "b05643ee-67db-4fe4-affe-5d87e10a7962",
   "metadata": {},
   "outputs": [],
   "source": [
    "#example\n",
    "a = \"scandal in a bohemia\""
   ]
  },
  {
   "cell_type": "code",
   "execution_count": 54,
   "id": "4bb1ba6f-a3eb-4316-81e5-7c7692809b1a",
   "metadata": {},
   "outputs": [
    {
     "data": {
      "text/plain": [
       "['scandal', 'in', 'a', 'bohemia']"
      ]
     },
     "execution_count": 54,
     "metadata": {},
     "output_type": "execute_result"
    }
   ],
   "source": [
    "a.split()"
   ]
  },
  {
   "cell_type": "code",
   "execution_count": 55,
   "id": "4a15a0f1-2b37-45c2-8594-2d2e8f59cdea",
   "metadata": {},
   "outputs": [
    {
     "data": {
      "text/plain": [
       "4"
      ]
     },
     "execution_count": 55,
     "metadata": {},
     "output_type": "execute_result"
    }
   ],
   "source": [
    "len(a.split())"
   ]
  },
  {
   "cell_type": "code",
   "execution_count": 56,
   "id": "7e56f147-604d-41f4-a2ef-fe40dafc95d8",
   "metadata": {},
   "outputs": [],
   "source": [
    "df3['word_count']=df3['stories'].apply(lambda x:len(str(x).split(' ')))"
   ]
  },
  {
   "cell_type": "code",
   "execution_count": 57,
   "id": "7ac33767-4c1b-4559-acfa-81f6b650dd7c",
   "metadata": {},
   "outputs": [
    {
     "data": {
      "text/html": [
       "<div>\n",
       "<style scoped>\n",
       "    .dataframe tbody tr th:only-of-type {\n",
       "        vertical-align: middle;\n",
       "    }\n",
       "\n",
       "    .dataframe tbody tr th {\n",
       "        vertical-align: top;\n",
       "    }\n",
       "\n",
       "    .dataframe thead th {\n",
       "        text-align: right;\n",
       "    }\n",
       "</style>\n",
       "<table border=\"1\" class=\"dataframe\">\n",
       "  <thead>\n",
       "    <tr style=\"text-align: right;\">\n",
       "      <th></th>\n",
       "      <th>stories</th>\n",
       "      <th>num_letter</th>\n",
       "      <th>word_count</th>\n",
       "    </tr>\n",
       "  </thead>\n",
       "  <tbody>\n",
       "    <tr>\n",
       "      <th>1</th>\n",
       "      <td>scandal bohemia</td>\n",
       "      <td>15</td>\n",
       "      <td>2</td>\n",
       "    </tr>\n",
       "    <tr>\n",
       "      <th>2</th>\n",
       "      <td>redheaded league</td>\n",
       "      <td>16</td>\n",
       "      <td>2</td>\n",
       "    </tr>\n",
       "    <tr>\n",
       "      <th>3</th>\n",
       "      <td>case identity</td>\n",
       "      <td>13</td>\n",
       "      <td>2</td>\n",
       "    </tr>\n",
       "    <tr>\n",
       "      <th>4</th>\n",
       "      <td>boscombe valley mystery</td>\n",
       "      <td>23</td>\n",
       "      <td>3</td>\n",
       "    </tr>\n",
       "    <tr>\n",
       "      <th>5</th>\n",
       "      <td>five orange pips</td>\n",
       "      <td>16</td>\n",
       "      <td>3</td>\n",
       "    </tr>\n",
       "    <tr>\n",
       "      <th>6</th>\n",
       "      <td>man twisted lip</td>\n",
       "      <td>15</td>\n",
       "      <td>3</td>\n",
       "    </tr>\n",
       "    <tr>\n",
       "      <th>7</th>\n",
       "      <td>adventure blue carbuncle</td>\n",
       "      <td>24</td>\n",
       "      <td>3</td>\n",
       "    </tr>\n",
       "    <tr>\n",
       "      <th>8</th>\n",
       "      <td>adventure speckled band</td>\n",
       "      <td>23</td>\n",
       "      <td>3</td>\n",
       "    </tr>\n",
       "    <tr>\n",
       "      <th>9</th>\n",
       "      <td>adventure engineers thumb</td>\n",
       "      <td>25</td>\n",
       "      <td>3</td>\n",
       "    </tr>\n",
       "    <tr>\n",
       "      <th>10</th>\n",
       "      <td>adventure noble bachelor</td>\n",
       "      <td>24</td>\n",
       "      <td>3</td>\n",
       "    </tr>\n",
       "    <tr>\n",
       "      <th>11</th>\n",
       "      <td>adventure beryl coronet</td>\n",
       "      <td>23</td>\n",
       "      <td>3</td>\n",
       "    </tr>\n",
       "    <tr>\n",
       "      <th>12</th>\n",
       "      <td>adventure copper beeches</td>\n",
       "      <td>24</td>\n",
       "      <td>3</td>\n",
       "    </tr>\n",
       "  </tbody>\n",
       "</table>\n",
       "</div>"
      ],
      "text/plain": [
       "                      stories  num_letter  word_count\n",
       "1             scandal bohemia          15           2\n",
       "2            redheaded league          16           2\n",
       "3               case identity          13           2\n",
       "4     boscombe valley mystery          23           3\n",
       "5            five orange pips          16           3\n",
       "6             man twisted lip          15           3\n",
       "7    adventure blue carbuncle          24           3\n",
       "8     adventure speckled band          23           3\n",
       "9   adventure engineers thumb          25           3\n",
       "10   adventure noble bachelor          24           3\n",
       "11    adventure beryl coronet          23           3\n",
       "12   adventure copper beeches          24           3"
      ]
     },
     "execution_count": 57,
     "metadata": {},
     "output_type": "execute_result"
    }
   ],
   "source": [
    "df3"
   ]
  },
  {
   "cell_type": "markdown",
   "id": "9276eaed-b553-43e6-8f97-24ea16d04e9d",
   "metadata": {},
   "source": [
    "## Capturing & Counting Special Characters"
   ]
  },
  {
   "cell_type": "code",
   "execution_count": 58,
   "id": "72f45330-bd28-4240-9873-264693d6228f",
   "metadata": {},
   "outputs": [],
   "source": [
    "df3[\"start_with_adventure\"] = df3[\"stories\"].apply(lambda x: len([x for x in x.split() \n",
    "                                       if x.startswith(\"adventure\")]))"
   ]
  },
  {
   "cell_type": "code",
   "execution_count": 59,
   "id": "cd7f83db-960c-41c0-907d-5f0e9f3af0c6",
   "metadata": {},
   "outputs": [
    {
     "data": {
      "text/html": [
       "<div>\n",
       "<style scoped>\n",
       "    .dataframe tbody tr th:only-of-type {\n",
       "        vertical-align: middle;\n",
       "    }\n",
       "\n",
       "    .dataframe tbody tr th {\n",
       "        vertical-align: top;\n",
       "    }\n",
       "\n",
       "    .dataframe thead th {\n",
       "        text-align: right;\n",
       "    }\n",
       "</style>\n",
       "<table border=\"1\" class=\"dataframe\">\n",
       "  <thead>\n",
       "    <tr style=\"text-align: right;\">\n",
       "      <th></th>\n",
       "      <th>stories</th>\n",
       "      <th>num_letter</th>\n",
       "      <th>word_count</th>\n",
       "      <th>start_with_adventure</th>\n",
       "    </tr>\n",
       "  </thead>\n",
       "  <tbody>\n",
       "    <tr>\n",
       "      <th>1</th>\n",
       "      <td>scandal bohemia</td>\n",
       "      <td>15</td>\n",
       "      <td>2</td>\n",
       "      <td>0</td>\n",
       "    </tr>\n",
       "    <tr>\n",
       "      <th>2</th>\n",
       "      <td>redheaded league</td>\n",
       "      <td>16</td>\n",
       "      <td>2</td>\n",
       "      <td>0</td>\n",
       "    </tr>\n",
       "    <tr>\n",
       "      <th>3</th>\n",
       "      <td>case identity</td>\n",
       "      <td>13</td>\n",
       "      <td>2</td>\n",
       "      <td>0</td>\n",
       "    </tr>\n",
       "    <tr>\n",
       "      <th>4</th>\n",
       "      <td>boscombe valley mystery</td>\n",
       "      <td>23</td>\n",
       "      <td>3</td>\n",
       "      <td>0</td>\n",
       "    </tr>\n",
       "    <tr>\n",
       "      <th>5</th>\n",
       "      <td>five orange pips</td>\n",
       "      <td>16</td>\n",
       "      <td>3</td>\n",
       "      <td>0</td>\n",
       "    </tr>\n",
       "    <tr>\n",
       "      <th>6</th>\n",
       "      <td>man twisted lip</td>\n",
       "      <td>15</td>\n",
       "      <td>3</td>\n",
       "      <td>0</td>\n",
       "    </tr>\n",
       "    <tr>\n",
       "      <th>7</th>\n",
       "      <td>adventure blue carbuncle</td>\n",
       "      <td>24</td>\n",
       "      <td>3</td>\n",
       "      <td>1</td>\n",
       "    </tr>\n",
       "    <tr>\n",
       "      <th>8</th>\n",
       "      <td>adventure speckled band</td>\n",
       "      <td>23</td>\n",
       "      <td>3</td>\n",
       "      <td>1</td>\n",
       "    </tr>\n",
       "    <tr>\n",
       "      <th>9</th>\n",
       "      <td>adventure engineers thumb</td>\n",
       "      <td>25</td>\n",
       "      <td>3</td>\n",
       "      <td>1</td>\n",
       "    </tr>\n",
       "    <tr>\n",
       "      <th>10</th>\n",
       "      <td>adventure noble bachelor</td>\n",
       "      <td>24</td>\n",
       "      <td>3</td>\n",
       "      <td>1</td>\n",
       "    </tr>\n",
       "    <tr>\n",
       "      <th>11</th>\n",
       "      <td>adventure beryl coronet</td>\n",
       "      <td>23</td>\n",
       "      <td>3</td>\n",
       "      <td>1</td>\n",
       "    </tr>\n",
       "    <tr>\n",
       "      <th>12</th>\n",
       "      <td>adventure copper beeches</td>\n",
       "      <td>24</td>\n",
       "      <td>3</td>\n",
       "      <td>1</td>\n",
       "    </tr>\n",
       "  </tbody>\n",
       "</table>\n",
       "</div>"
      ],
      "text/plain": [
       "                      stories  num_letter  word_count  start_with_adventure\n",
       "1             scandal bohemia          15           2                     0\n",
       "2            redheaded league          16           2                     0\n",
       "3               case identity          13           2                     0\n",
       "4     boscombe valley mystery          23           3                     0\n",
       "5            five orange pips          16           3                     0\n",
       "6             man twisted lip          15           3                     0\n",
       "7    adventure blue carbuncle          24           3                     1\n",
       "8     adventure speckled band          23           3                     1\n",
       "9   adventure engineers thumb          25           3                     1\n",
       "10   adventure noble bachelor          24           3                     1\n",
       "11    adventure beryl coronet          23           3                     1\n",
       "12   adventure copper beeches          24           3                     1"
      ]
     },
     "execution_count": 59,
     "metadata": {},
     "output_type": "execute_result"
    }
   ],
   "source": [
    "df3"
   ]
  },
  {
   "cell_type": "markdown",
   "id": "e1c143fa-d2c3-4fb5-9d8c-6d00697bc664",
   "metadata": {},
   "source": [
    "## Text Visulation"
   ]
  },
  {
   "cell_type": "code",
   "execution_count": 60,
   "id": "c6d641e7-9074-4fd0-bb7f-af808a62607b",
   "metadata": {},
   "outputs": [],
   "source": [
    "data = pd.read_csv(\"train.tsv\",sep = \"\\t\")"
   ]
  },
  {
   "cell_type": "code",
   "execution_count": 61,
   "id": "c8c6c12e-5ccc-4e95-aebf-bc66e22769fe",
   "metadata": {},
   "outputs": [
    {
     "data": {
      "text/html": [
       "<div>\n",
       "<style scoped>\n",
       "    .dataframe tbody tr th:only-of-type {\n",
       "        vertical-align: middle;\n",
       "    }\n",
       "\n",
       "    .dataframe tbody tr th {\n",
       "        vertical-align: top;\n",
       "    }\n",
       "\n",
       "    .dataframe thead th {\n",
       "        text-align: right;\n",
       "    }\n",
       "</style>\n",
       "<table border=\"1\" class=\"dataframe\">\n",
       "  <thead>\n",
       "    <tr style=\"text-align: right;\">\n",
       "      <th></th>\n",
       "      <th>PhraseId</th>\n",
       "      <th>SentenceId</th>\n",
       "      <th>Phrase</th>\n",
       "      <th>Sentiment</th>\n",
       "    </tr>\n",
       "  </thead>\n",
       "  <tbody>\n",
       "    <tr>\n",
       "      <th>0</th>\n",
       "      <td>1</td>\n",
       "      <td>1</td>\n",
       "      <td>A series of escapades demonstrating the adage ...</td>\n",
       "      <td>1</td>\n",
       "    </tr>\n",
       "    <tr>\n",
       "      <th>1</th>\n",
       "      <td>2</td>\n",
       "      <td>1</td>\n",
       "      <td>A series of escapades demonstrating the adage ...</td>\n",
       "      <td>2</td>\n",
       "    </tr>\n",
       "    <tr>\n",
       "      <th>2</th>\n",
       "      <td>3</td>\n",
       "      <td>1</td>\n",
       "      <td>A series</td>\n",
       "      <td>2</td>\n",
       "    </tr>\n",
       "    <tr>\n",
       "      <th>3</th>\n",
       "      <td>4</td>\n",
       "      <td>1</td>\n",
       "      <td>A</td>\n",
       "      <td>2</td>\n",
       "    </tr>\n",
       "    <tr>\n",
       "      <th>4</th>\n",
       "      <td>5</td>\n",
       "      <td>1</td>\n",
       "      <td>series</td>\n",
       "      <td>2</td>\n",
       "    </tr>\n",
       "  </tbody>\n",
       "</table>\n",
       "</div>"
      ],
      "text/plain": [
       "   PhraseId  SentenceId                                             Phrase  \\\n",
       "0         1           1  A series of escapades demonstrating the adage ...   \n",
       "1         2           1  A series of escapades demonstrating the adage ...   \n",
       "2         3           1                                           A series   \n",
       "3         4           1                                                  A   \n",
       "4         5           1                                             series   \n",
       "\n",
       "   Sentiment  \n",
       "0          1  \n",
       "1          2  \n",
       "2          2  \n",
       "3          2  \n",
       "4          2  "
      ]
     },
     "execution_count": 61,
     "metadata": {},
     "output_type": "execute_result"
    }
   ],
   "source": [
    "data.head()"
   ]
  },
  {
   "cell_type": "code",
   "execution_count": 62,
   "id": "b260f242-21bf-4d95-9921-263a6d885924",
   "metadata": {
    "tags": []
   },
   "outputs": [
    {
     "name": "stdout",
     "output_type": "stream",
     "text": [
      "<class 'pandas.core.frame.DataFrame'>\n",
      "RangeIndex: 156060 entries, 0 to 156059\n",
      "Data columns (total 4 columns):\n",
      " #   Column      Non-Null Count   Dtype \n",
      "---  ------      --------------   ----- \n",
      " 0   PhraseId    156060 non-null  int64 \n",
      " 1   SentenceId  156060 non-null  int64 \n",
      " 2   Phrase      156060 non-null  object\n",
      " 3   Sentiment   156060 non-null  int64 \n",
      "dtypes: int64(3), object(1)\n",
      "memory usage: 4.8+ MB\n"
     ]
    }
   ],
   "source": [
    "data.info()"
   ]
  },
  {
   "cell_type": "code",
   "execution_count": 63,
   "id": "8cda63e6-e23a-41a7-ada1-4f442c4c9977",
   "metadata": {},
   "outputs": [],
   "source": [
    "#Upper/Lower Case\n",
    "data['Phrase'] = data['Phrase'].apply(lambda x: \" \".join(x.lower() for x in x.split()))"
   ]
  },
  {
   "cell_type": "code",
   "execution_count": 64,
   "id": "9a172c5a-9b6d-4aab-9586-0f385788cca9",
   "metadata": {},
   "outputs": [],
   "source": [
    "#deletin ponction\n",
    "data['Phrase'] = data['Phrase'].str.replace('[^\\w\\s]','')"
   ]
  },
  {
   "cell_type": "code",
   "execution_count": 65,
   "id": "85efbd06-ee93-4a9e-81a9-da7a7a7f8986",
   "metadata": {},
   "outputs": [],
   "source": [
    "#deleting Numbers\n",
    "data['Phrase'] = data['Phrase'].str.replace('\\d','')"
   ]
  },
  {
   "cell_type": "code",
   "execution_count": 66,
   "id": "3839e797-e358-473a-94ce-fec476f85ba9",
   "metadata": {},
   "outputs": [],
   "source": [
    "#stopwords\n",
    "sw = stopwords.words('english')\n",
    "data['Phrase'] = data['Phrase'].apply(lambda x: \" \".join(x for x in x.split() if x not in sw))"
   ]
  },
  {
   "cell_type": "code",
   "execution_count": 67,
   "id": "4f6dabf0-285d-47c8-8be9-1a7c9b7161c1",
   "metadata": {},
   "outputs": [],
   "source": [
    "#Deleting Rare words\n",
    "delete = pd.Series(' '.join(data['Phrase']).split()).value_counts()[-1000:]\n",
    "data['Phrase'] = data['Phrase'].apply(lambda x: \" \".join(x for x in x.split() if x not in delete))"
   ]
  },
  {
   "cell_type": "code",
   "execution_count": 68,
   "id": "ee074874-1c8a-44db-8e87-ecf4b098c32c",
   "metadata": {},
   "outputs": [],
   "source": [
    "#lemmi\n",
    "from textblob import Word\n",
    "#nltk.download('wordnet')\n",
    "data['Phrase'] = data['Phrase'].apply(lambda x: \" \".join([Word(word).lemmatize() for word in x.split()])) "
   ]
  },
  {
   "cell_type": "code",
   "execution_count": 69,
   "id": "58c30bff-0a8a-4226-9fee-31758009372b",
   "metadata": {},
   "outputs": [
    {
     "data": {
      "text/plain": [
       "0    series escapade demonstrating adage good goose...\n",
       "1       series escapade demonstrating adage good goose\n",
       "2                                               series\n",
       "3                                                     \n",
       "4                                               series\n",
       "5              escapade demonstrating adage good goose\n",
       "6                                                     \n",
       "7              escapade demonstrating adage good goose\n",
       "8                                             escapade\n",
       "9                       demonstrating adage good goose\n",
       "Name: Phrase, dtype: object"
      ]
     },
     "execution_count": 69,
     "metadata": {},
     "output_type": "execute_result"
    }
   ],
   "source": [
    "data['Phrase'].head(10)"
   ]
  },
  {
   "cell_type": "markdown",
   "id": "6a91816b-c9b8-4cc4-b121-5f62879d0109",
   "metadata": {},
   "source": [
    "## Wordcloud"
   ]
  },
  {
   "cell_type": "code",
   "execution_count": 70,
   "id": "4ade51bf-a068-4d90-83ea-d42c403625ac",
   "metadata": {
    "tags": []
   },
   "outputs": [
    {
     "name": "stdout",
     "output_type": "stream",
     "text": [
      "Requirement already satisfied: wordcloud in c:\\anaconda\\lib\\site-packages (1.8.2.2)\n",
      "Requirement already satisfied: matplotlib in c:\\anaconda\\lib\\site-packages (from wordcloud) (3.4.3)\n",
      "Requirement already satisfied: pillow in c:\\anaconda\\lib\\site-packages (from wordcloud) (8.4.0)\n",
      "Requirement already satisfied: numpy>=1.6.1 in c:\\anaconda\\lib\\site-packages (from wordcloud) (1.20.3)\n",
      "Requirement already satisfied: cycler>=0.10 in c:\\anaconda\\lib\\site-packages (from matplotlib->wordcloud) (0.10.0)\n",
      "Requirement already satisfied: kiwisolver>=1.0.1 in c:\\anaconda\\lib\\site-packages (from matplotlib->wordcloud) (1.3.1)\n",
      "Requirement already satisfied: python-dateutil>=2.7 in c:\\anaconda\\lib\\site-packages (from matplotlib->wordcloud) (2.8.2)\n",
      "Requirement already satisfied: pyparsing>=2.2.1 in c:\\anaconda\\lib\\site-packages (from matplotlib->wordcloud) (3.0.4)\n",
      "Requirement already satisfied: six in c:\\anaconda\\lib\\site-packages (from cycler>=0.10->matplotlib->wordcloud) (1.16.0)\n"
     ]
    }
   ],
   "source": [
    "!pip install wordcloud"
   ]
  },
  {
   "cell_type": "code",
   "execution_count": 71,
   "id": "7e4e9774-5c05-478c-affb-83eb994a4fa8",
   "metadata": {},
   "outputs": [],
   "source": [
    "from os import path\n",
    "from PIL import Image\n",
    "from wordcloud import WordCloud, STOPWORDS, ImageColorGenerator\n",
    "import matplotlib.pyplot as plt"
   ]
  },
  {
   "cell_type": "code",
   "execution_count": 72,
   "id": "cae450a4-ccc9-49eb-ba38-4183233e9a6a",
   "metadata": {},
   "outputs": [],
   "source": [
    "text = data[\"Phrase\"][0]"
   ]
  },
  {
   "cell_type": "code",
   "execution_count": 73,
   "id": "cd3912b3-e06e-4d59-8b9f-02984ff9d8fb",
   "metadata": {},
   "outputs": [],
   "source": [
    "wordcloud = WordCloud().generate(text)"
   ]
  },
  {
   "cell_type": "code",
   "execution_count": 74,
   "id": "2c8d333f-b3f1-4cd7-a6e5-4baffcaaa344",
   "metadata": {},
   "outputs": [
    {
     "data": {
      "image/png": "[encoded data removed]",
      "text/plain": [
       "<Figure size 432x288 with 1 Axes>"
      ]
     },
     "metadata": {
      "needs_background": "light"
     },
     "output_type": "display_data"
    }
   ],
   "source": [
    "plt.imshow(wordcloud, interpolation = \"bilinear\")\n",
    "plt.axis(\"off\")\n",
    "plt.show()"
   ]
  },
  {
   "cell_type": "code",
   "execution_count": 75,
   "id": "9c6e7e2e-3696-4784-86fd-757c87f010d7",
   "metadata": {},
   "outputs": [
    {
     "data": {
      "image/png": "[encoded data removed]",
      "text/plain": [
       "<Figure size 432x288 with 1 Axes>"
      ]
     },
     "metadata": {
      "needs_background": "light"
     },
     "output_type": "display_data"
    }
   ],
   "source": [
    "wordcloud = WordCloud(max_font_size = 50,\n",
    "                     max_words = 100, \n",
    "                     background_color = \"white\").generate(text)\n",
    "plt.figure()\n",
    "plt.imshow(wordcloud, interpolation = \"bilinear\")\n",
    "plt.axis(\"off\")\n",
    "plt.show()"
   ]
  },
  {
   "cell_type": "code",
   "execution_count": 76,
   "id": "16777536-0ebc-4400-8468-e24c7e7572de",
   "metadata": {},
   "outputs": [],
   "source": [
    "wordcloud.to_file(\"word_cloud.png\");"
   ]
  },
  {
   "cell_type": "code",
   "execution_count": 77,
   "id": "7c9fc9b4-15c4-40d0-beef-5e15807cd5de",
   "metadata": {},
   "outputs": [],
   "source": [
    "## All text in Phrase\n",
    "text = \" \".join(i for i in data.Phrase)\n"
   ]
  },
  {
   "cell_type": "code",
   "execution_count": 78,
   "id": "9f10f83f-4ab5-4d57-bb36-6c8ed8cfe8f0",
   "metadata": {},
   "outputs": [
    {
     "data": {
      "image/png": "[encoded data removed]",
      "text/plain": [
       "<Figure size 720x720 with 1 Axes>"
      ]
     },
     "metadata": {
      "needs_background": "light"
     },
     "output_type": "display_data"
    }
   ],
   "source": [
    "wordcloud = WordCloud(max_font_size = 50,\n",
    "                     max_words = 100, \n",
    "                     background_color = \"white\").generate(text)\n",
    "plt.figure(figsize = [10,10])\n",
    "plt.imshow(wordcloud, interpolation = \"bilinear\")\n",
    "plt.axis(\"off\")\n",
    "plt.show()"
   ]
  },
  {
   "cell_type": "markdown",
   "id": "522d9f73-f47c-4b6c-b99b-ef476fcfa844",
   "metadata": {},
   "source": [
    "# Sentiment Analysis and Classification Models"
   ]
  },
  {
   "cell_type": "code",
   "execution_count": 79,
   "id": "9658b724-6e21-4020-9067-0f95ff3b8aa7",
   "metadata": {},
   "outputs": [],
   "source": [
    "from textblob import TextBlob\n",
    "from sklearn import model_selection, preprocessing, linear_model, naive_bayes, metrics\n",
    "from sklearn.feature_extraction.text import TfidfVectorizer, CountVectorizer\n",
    "from sklearn import decomposition, ensemble\n",
    "\n",
    "import pandas, xgboost, numpy, textblob, string\n",
    "from keras.preprocessing import text, sequence\n",
    "from keras import layers, models, optimizers\n",
    "\n",
    "\n",
    "from warnings import filterwarnings\n",
    "filterwarnings('ignore')"
   ]
  },
  {
   "cell_type": "code",
   "execution_count": 80,
   "id": "0f89e44e-ac8f-4201-98ff-8eecfba60c18",
   "metadata": {},
   "outputs": [],
   "source": [
    "data = pd.read_csv(\"train.tsv\",sep = \"\\t\")"
   ]
  },
  {
   "cell_type": "code",
   "execution_count": 81,
   "id": "cef0601e-4cca-463c-9de6-37b5a4b04c08",
   "metadata": {},
   "outputs": [
    {
     "data": {
      "text/html": [
       "<div>\n",
       "<style scoped>\n",
       "    .dataframe tbody tr th:only-of-type {\n",
       "        vertical-align: middle;\n",
       "    }\n",
       "\n",
       "    .dataframe tbody tr th {\n",
       "        vertical-align: top;\n",
       "    }\n",
       "\n",
       "    .dataframe thead th {\n",
       "        text-align: right;\n",
       "    }\n",
       "</style>\n",
       "<table border=\"1\" class=\"dataframe\">\n",
       "  <thead>\n",
       "    <tr style=\"text-align: right;\">\n",
       "      <th></th>\n",
       "      <th>PhraseId</th>\n",
       "      <th>SentenceId</th>\n",
       "      <th>Phrase</th>\n",
       "      <th>Sentiment</th>\n",
       "    </tr>\n",
       "  </thead>\n",
       "  <tbody>\n",
       "    <tr>\n",
       "      <th>0</th>\n",
       "      <td>1</td>\n",
       "      <td>1</td>\n",
       "      <td>A series of escapades demonstrating the adage ...</td>\n",
       "      <td>1</td>\n",
       "    </tr>\n",
       "    <tr>\n",
       "      <th>1</th>\n",
       "      <td>2</td>\n",
       "      <td>1</td>\n",
       "      <td>A series of escapades demonstrating the adage ...</td>\n",
       "      <td>2</td>\n",
       "    </tr>\n",
       "    <tr>\n",
       "      <th>2</th>\n",
       "      <td>3</td>\n",
       "      <td>1</td>\n",
       "      <td>A series</td>\n",
       "      <td>2</td>\n",
       "    </tr>\n",
       "    <tr>\n",
       "      <th>3</th>\n",
       "      <td>4</td>\n",
       "      <td>1</td>\n",
       "      <td>A</td>\n",
       "      <td>2</td>\n",
       "    </tr>\n",
       "    <tr>\n",
       "      <th>4</th>\n",
       "      <td>5</td>\n",
       "      <td>1</td>\n",
       "      <td>series</td>\n",
       "      <td>2</td>\n",
       "    </tr>\n",
       "  </tbody>\n",
       "</table>\n",
       "</div>"
      ],
      "text/plain": [
       "   PhraseId  SentenceId                                             Phrase  \\\n",
       "0         1           1  A series of escapades demonstrating the adage ...   \n",
       "1         2           1  A series of escapades demonstrating the adage ...   \n",
       "2         3           1                                           A series   \n",
       "3         4           1                                                  A   \n",
       "4         5           1                                             series   \n",
       "\n",
       "   Sentiment  \n",
       "0          1  \n",
       "1          2  \n",
       "2          2  \n",
       "3          2  \n",
       "4          2  "
      ]
     },
     "execution_count": 81,
     "metadata": {},
     "output_type": "execute_result"
    }
   ],
   "source": [
    "data.head()"
   ]
  },
  {
   "cell_type": "code",
   "execution_count": 82,
   "id": "08693268-6ab5-4310-b9f5-59928c9e5546",
   "metadata": {},
   "outputs": [],
   "source": [
    "data[\"Sentiment\"].replace(0, value = \"negatif\", inplace = True)\n",
    "data[\"Sentiment\"].replace(1, value = \"negatif\", inplace = True)"
   ]
  },
  {
   "cell_type": "code",
   "execution_count": 84,
   "id": "3880af04-ac32-4fb2-82a5-ed363be4f082",
   "metadata": {},
   "outputs": [],
   "source": [
    "data[\"Sentiment\"].replace(3, value = \"pozitif\", inplace = True)\n",
    "data[\"Sentiment\"].replace(4, value = \"pozitif\", inplace = True)"
   ]
  },
  {
   "cell_type": "code",
   "execution_count": 85,
   "id": "6bdcf972-000c-476b-bb82-1ced0a7e1c08",
   "metadata": {},
   "outputs": [
    {
     "data": {
      "text/html": [
       "<div>\n",
       "<style scoped>\n",
       "    .dataframe tbody tr th:only-of-type {\n",
       "        vertical-align: middle;\n",
       "    }\n",
       "\n",
       "    .dataframe tbody tr th {\n",
       "        vertical-align: top;\n",
       "    }\n",
       "\n",
       "    .dataframe thead th {\n",
       "        text-align: right;\n",
       "    }\n",
       "</style>\n",
       "<table border=\"1\" class=\"dataframe\">\n",
       "  <thead>\n",
       "    <tr style=\"text-align: right;\">\n",
       "      <th></th>\n",
       "      <th>PhraseId</th>\n",
       "      <th>SentenceId</th>\n",
       "      <th>Phrase</th>\n",
       "      <th>Sentiment</th>\n",
       "    </tr>\n",
       "  </thead>\n",
       "  <tbody>\n",
       "    <tr>\n",
       "      <th>0</th>\n",
       "      <td>1</td>\n",
       "      <td>1</td>\n",
       "      <td>A series of escapades demonstrating the adage ...</td>\n",
       "      <td>negatif</td>\n",
       "    </tr>\n",
       "    <tr>\n",
       "      <th>1</th>\n",
       "      <td>2</td>\n",
       "      <td>1</td>\n",
       "      <td>A series of escapades demonstrating the adage ...</td>\n",
       "      <td>2</td>\n",
       "    </tr>\n",
       "    <tr>\n",
       "      <th>2</th>\n",
       "      <td>3</td>\n",
       "      <td>1</td>\n",
       "      <td>A series</td>\n",
       "      <td>2</td>\n",
       "    </tr>\n",
       "    <tr>\n",
       "      <th>3</th>\n",
       "      <td>4</td>\n",
       "      <td>1</td>\n",
       "      <td>A</td>\n",
       "      <td>2</td>\n",
       "    </tr>\n",
       "    <tr>\n",
       "      <th>4</th>\n",
       "      <td>5</td>\n",
       "      <td>1</td>\n",
       "      <td>series</td>\n",
       "      <td>2</td>\n",
       "    </tr>\n",
       "  </tbody>\n",
       "</table>\n",
       "</div>"
      ],
      "text/plain": [
       "   PhraseId  SentenceId                                             Phrase  \\\n",
       "0         1           1  A series of escapades demonstrating the adage ...   \n",
       "1         2           1  A series of escapades demonstrating the adage ...   \n",
       "2         3           1                                           A series   \n",
       "3         4           1                                                  A   \n",
       "4         5           1                                             series   \n",
       "\n",
       "  Sentiment  \n",
       "0   negatif  \n",
       "1         2  \n",
       "2         2  \n",
       "3         2  \n",
       "4         2  "
      ]
     },
     "execution_count": 85,
     "metadata": {},
     "output_type": "execute_result"
    }
   ],
   "source": [
    "data.head()"
   ]
  },
  {
   "cell_type": "code",
   "execution_count": 86,
   "id": "210e9e6f-8eea-4efb-a868-274feea133e3",
   "metadata": {},
   "outputs": [],
   "source": [
    "data = data[(data.Sentiment == \"negatif\") | (data.Sentiment == \"pozitif\")]"
   ]
  },
  {
   "cell_type": "code",
   "execution_count": 87,
   "id": "87ce58c3-d3c6-4bd1-8201-c1f6a3efc346",
   "metadata": {},
   "outputs": [
    {
     "data": {
      "text/html": [
       "<div>\n",
       "<style scoped>\n",
       "    .dataframe tbody tr th:only-of-type {\n",
       "        vertical-align: middle;\n",
       "    }\n",
       "\n",
       "    .dataframe tbody tr th {\n",
       "        vertical-align: top;\n",
       "    }\n",
       "\n",
       "    .dataframe thead th {\n",
       "        text-align: right;\n",
       "    }\n",
       "</style>\n",
       "<table border=\"1\" class=\"dataframe\">\n",
       "  <thead>\n",
       "    <tr style=\"text-align: right;\">\n",
       "      <th></th>\n",
       "      <th>PhraseId</th>\n",
       "      <th>SentenceId</th>\n",
       "      <th>Phrase</th>\n",
       "      <th>Sentiment</th>\n",
       "    </tr>\n",
       "  </thead>\n",
       "  <tbody>\n",
       "    <tr>\n",
       "      <th>0</th>\n",
       "      <td>1</td>\n",
       "      <td>1</td>\n",
       "      <td>A series of escapades demonstrating the adage ...</td>\n",
       "      <td>negatif</td>\n",
       "    </tr>\n",
       "    <tr>\n",
       "      <th>21</th>\n",
       "      <td>22</td>\n",
       "      <td>1</td>\n",
       "      <td>good for the goose</td>\n",
       "      <td>pozitif</td>\n",
       "    </tr>\n",
       "    <tr>\n",
       "      <th>22</th>\n",
       "      <td>23</td>\n",
       "      <td>1</td>\n",
       "      <td>good</td>\n",
       "      <td>pozitif</td>\n",
       "    </tr>\n",
       "    <tr>\n",
       "      <th>33</th>\n",
       "      <td>34</td>\n",
       "      <td>1</td>\n",
       "      <td>the gander , some of which occasionally amuses...</td>\n",
       "      <td>negatif</td>\n",
       "    </tr>\n",
       "    <tr>\n",
       "      <th>46</th>\n",
       "      <td>47</td>\n",
       "      <td>1</td>\n",
       "      <td>amuses</td>\n",
       "      <td>pozitif</td>\n",
       "    </tr>\n",
       "  </tbody>\n",
       "</table>\n",
       "</div>"
      ],
      "text/plain": [
       "    PhraseId  SentenceId                                             Phrase  \\\n",
       "0          1           1  A series of escapades demonstrating the adage ...   \n",
       "21        22           1                                 good for the goose   \n",
       "22        23           1                                               good   \n",
       "33        34           1  the gander , some of which occasionally amuses...   \n",
       "46        47           1                                             amuses   \n",
       "\n",
       "   Sentiment  \n",
       "0    negatif  \n",
       "21   pozitif  \n",
       "22   pozitif  \n",
       "33   negatif  \n",
       "46   pozitif  "
      ]
     },
     "execution_count": 87,
     "metadata": {},
     "output_type": "execute_result"
    }
   ],
   "source": [
    "data.head()"
   ]
  },
  {
   "cell_type": "code",
   "execution_count": 88,
   "id": "c3c3a971-3d21-46c1-a7fe-873d10bc3e3d",
   "metadata": {},
   "outputs": [
    {
     "data": {
      "text/html": [
       "<div>\n",
       "<style scoped>\n",
       "    .dataframe tbody tr th:only-of-type {\n",
       "        vertical-align: middle;\n",
       "    }\n",
       "\n",
       "    .dataframe tbody tr th {\n",
       "        vertical-align: top;\n",
       "    }\n",
       "\n",
       "    .dataframe thead th {\n",
       "        text-align: right;\n",
       "    }\n",
       "</style>\n",
       "<table border=\"1\" class=\"dataframe\">\n",
       "  <thead>\n",
       "    <tr style=\"text-align: right;\">\n",
       "      <th></th>\n",
       "      <th>PhraseId</th>\n",
       "      <th>SentenceId</th>\n",
       "      <th>Phrase</th>\n",
       "    </tr>\n",
       "    <tr>\n",
       "      <th>Sentiment</th>\n",
       "      <th></th>\n",
       "      <th></th>\n",
       "      <th></th>\n",
       "    </tr>\n",
       "  </thead>\n",
       "  <tbody>\n",
       "    <tr>\n",
       "      <th>negatif</th>\n",
       "      <td>34345</td>\n",
       "      <td>34345</td>\n",
       "      <td>34345</td>\n",
       "    </tr>\n",
       "    <tr>\n",
       "      <th>pozitif</th>\n",
       "      <td>42133</td>\n",
       "      <td>42133</td>\n",
       "      <td>42133</td>\n",
       "    </tr>\n",
       "  </tbody>\n",
       "</table>\n",
       "</div>"
      ],
      "text/plain": [
       "           PhraseId  SentenceId  Phrase\n",
       "Sentiment                              \n",
       "negatif       34345       34345   34345\n",
       "pozitif       42133       42133   42133"
      ]
     },
     "execution_count": 88,
     "metadata": {},
     "output_type": "execute_result"
    }
   ],
   "source": [
    "data.groupby(\"Sentiment\").count()"
   ]
  },
  {
   "cell_type": "code",
   "execution_count": 89,
   "id": "9a90dd0f-d692-4cd3-84fe-86e69dcdd52e",
   "metadata": {},
   "outputs": [],
   "source": [
    "df_d = pd.DataFrame()\n",
    "df_d[\"text\"] = data[\"Phrase\"]\n",
    "df_d[\"label\"] = data[\"Sentiment\"]"
   ]
  },
  {
   "cell_type": "code",
   "execution_count": 90,
   "id": "969b6dab-2926-4a24-b7b0-d93066df93db",
   "metadata": {},
   "outputs": [
    {
     "data": {
      "text/html": [
       "<div>\n",
       "<style scoped>\n",
       "    .dataframe tbody tr th:only-of-type {\n",
       "        vertical-align: middle;\n",
       "    }\n",
       "\n",
       "    .dataframe tbody tr th {\n",
       "        vertical-align: top;\n",
       "    }\n",
       "\n",
       "    .dataframe thead th {\n",
       "        text-align: right;\n",
       "    }\n",
       "</style>\n",
       "<table border=\"1\" class=\"dataframe\">\n",
       "  <thead>\n",
       "    <tr style=\"text-align: right;\">\n",
       "      <th></th>\n",
       "      <th>text</th>\n",
       "      <th>label</th>\n",
       "    </tr>\n",
       "  </thead>\n",
       "  <tbody>\n",
       "    <tr>\n",
       "      <th>0</th>\n",
       "      <td>A series of escapades demonstrating the adage ...</td>\n",
       "      <td>negatif</td>\n",
       "    </tr>\n",
       "    <tr>\n",
       "      <th>21</th>\n",
       "      <td>good for the goose</td>\n",
       "      <td>pozitif</td>\n",
       "    </tr>\n",
       "    <tr>\n",
       "      <th>22</th>\n",
       "      <td>good</td>\n",
       "      <td>pozitif</td>\n",
       "    </tr>\n",
       "    <tr>\n",
       "      <th>33</th>\n",
       "      <td>the gander , some of which occasionally amuses...</td>\n",
       "      <td>negatif</td>\n",
       "    </tr>\n",
       "    <tr>\n",
       "      <th>46</th>\n",
       "      <td>amuses</td>\n",
       "      <td>pozitif</td>\n",
       "    </tr>\n",
       "  </tbody>\n",
       "</table>\n",
       "</div>"
      ],
      "text/plain": [
       "                                                 text    label\n",
       "0   A series of escapades demonstrating the adage ...  negatif\n",
       "21                                 good for the goose  pozitif\n",
       "22                                               good  pozitif\n",
       "33  the gander , some of which occasionally amuses...  negatif\n",
       "46                                             amuses  pozitif"
      ]
     },
     "execution_count": 90,
     "metadata": {},
     "output_type": "execute_result"
    }
   ],
   "source": [
    "df_d.head()"
   ]
  },
  {
   "cell_type": "markdown",
   "id": "ef75e2cd-7032-47d0-b6d8-ca0f41c117af",
   "metadata": {},
   "source": [
    "## Text Preprocessing"
   ]
  },
  {
   "cell_type": "code",
   "execution_count": 91,
   "id": "3c686f34-94a6-4771-b116-b438bf942ba1",
   "metadata": {},
   "outputs": [],
   "source": [
    "#upper/lower case\n",
    "df_d['text'] = df_d['text'].apply(lambda x: \" \".join(x.lower() for x in x.split()))\n",
    "\n",
    "# deleting ponction\n",
    "df_d['text'] = df_d['text'].str.replace('[^\\w\\s]','')\n",
    "\n",
    "#removing number\n",
    "df_d['text'] = df_d['text'].str.replace('\\d','')\n",
    "\n",
    "#stopwords\n",
    "import nltk\n",
    "#nltk.download('stopwords')\n",
    "from nltk.corpus import stopwords\n",
    "sw = stopwords.words('english')\n",
    "df_d['text'] = df_d['text'].apply(lambda x: \" \".join(x for x in x.split() if x not in sw))\n",
    "\n",
    "#deleting rare word\n",
    "delete = pd.Series(' '.join(df_d['text']).split()).value_counts()[-1000:]\n",
    "df_d['text'] = df_d['text'].apply(lambda x: \" \".join(x for x in x.split() if x not in delete))\n",
    "\n",
    "#lemmi\n",
    "from textblob import Word\n",
    "#nltk.download('wordnet')\n",
    "df_d['text'] = df_d['text'].apply(lambda x: \" \".join([Word(word).lemmatize() for word in x.split()])) "
   ]
  },
  {
   "cell_type": "markdown",
   "id": "f10c9c05-af0f-451d-9b9b-a688ca09eceb",
   "metadata": {},
   "source": [
    "## Variable Engineering\n",
    "Count Vectors\n",
    "TF-IDF Vectors (words, characters, n-grams)\n",
    "Word Embeddings\n",
    "TF(t) = (Frequency of occurrence of a term t in a document) / (total number of terms in the document)\n",
    "\n",
    "IDF(t) = log_e(Total number of documents / number of documents with t term in it)"
   ]
  },
  {
   "cell_type": "code",
   "execution_count": 92,
   "id": "1a97cd16-9592-4cad-9549-3f7871a29e7b",
   "metadata": {},
   "outputs": [
    {
     "data": {
      "text/html": [
       "<div>\n",
       "<style scoped>\n",
       "    .dataframe tbody tr th:only-of-type {\n",
       "        vertical-align: middle;\n",
       "    }\n",
       "\n",
       "    .dataframe tbody tr th {\n",
       "        vertical-align: top;\n",
       "    }\n",
       "\n",
       "    .dataframe thead th {\n",
       "        text-align: right;\n",
       "    }\n",
       "</style>\n",
       "<table border=\"1\" class=\"dataframe\">\n",
       "  <thead>\n",
       "    <tr style=\"text-align: right;\">\n",
       "      <th></th>\n",
       "      <th>text</th>\n",
       "      <th>label</th>\n",
       "    </tr>\n",
       "  </thead>\n",
       "  <tbody>\n",
       "    <tr>\n",
       "      <th>0</th>\n",
       "      <td>series demonstrating adage good goose also goo...</td>\n",
       "      <td>negatif</td>\n",
       "    </tr>\n",
       "    <tr>\n",
       "      <th>21</th>\n",
       "      <td>good goose</td>\n",
       "      <td>pozitif</td>\n",
       "    </tr>\n",
       "    <tr>\n",
       "      <th>22</th>\n",
       "      <td>good</td>\n",
       "      <td>pozitif</td>\n",
       "    </tr>\n",
       "    <tr>\n",
       "      <th>33</th>\n",
       "      <td>gander occasionally amuses none amount much story</td>\n",
       "      <td>negatif</td>\n",
       "    </tr>\n",
       "    <tr>\n",
       "      <th>46</th>\n",
       "      <td>amuses</td>\n",
       "      <td>pozitif</td>\n",
       "    </tr>\n",
       "  </tbody>\n",
       "</table>\n",
       "</div>"
      ],
      "text/plain": [
       "                                                 text    label\n",
       "0   series demonstrating adage good goose also goo...  negatif\n",
       "21                                         good goose  pozitif\n",
       "22                                               good  pozitif\n",
       "33  gander occasionally amuses none amount much story  negatif\n",
       "46                                             amuses  pozitif"
      ]
     },
     "execution_count": 92,
     "metadata": {},
     "output_type": "execute_result"
    }
   ],
   "source": [
    "df_d.head()"
   ]
  },
  {
   "cell_type": "code",
   "execution_count": 93,
   "id": "27de06cb-6064-4163-acef-520779d4df99",
   "metadata": {},
   "outputs": [
    {
     "data": {
      "text/plain": [
       "text     series demonstrating adage good goose also goo...\n",
       "label                                              negatif\n",
       "Name: 0, dtype: object"
      ]
     },
     "execution_count": 93,
     "metadata": {},
     "output_type": "execute_result"
    }
   ],
   "source": [
    "df_d.iloc[0]"
   ]
  },
  {
   "cell_type": "markdown",
   "id": "c2f19942-069f-40d5-ad1c-b32621f69014",
   "metadata": {},
   "source": [
    "## Test-Train"
   ]
  },
  {
   "cell_type": "code",
   "execution_count": 94,
   "id": "d7f024d3-1a08-493d-bd75-1391d4a859f0",
   "metadata": {},
   "outputs": [],
   "source": [
    "train_x, test_x, train_y, test_y = model_selection.train_test_split(df_d[\"text\"],\n",
    "                                                                   df_d[\"label\"], \n",
    "                                                                    random_state = 1)"
   ]
  },
  {
   "cell_type": "code",
   "execution_count": 95,
   "id": "94a2ff8e-48dc-43c3-9fe0-4fcddafb28f9",
   "metadata": {},
   "outputs": [
    {
     "data": {
      "text/plain": [
       "118788    pozitif\n",
       "89514     negatif\n",
       "86857     pozitif\n",
       "140626    negatif\n",
       "153243    pozitif\n",
       "Name: label, dtype: object"
      ]
     },
     "execution_count": 95,
     "metadata": {},
     "output_type": "execute_result"
    }
   ],
   "source": [
    "train_y[0:5]"
   ]
  },
  {
   "cell_type": "code",
   "execution_count": 96,
   "id": "9291c08b-e10b-4be2-b9f5-4a2f04bf8d46",
   "metadata": {},
   "outputs": [],
   "source": [
    "encoder = preprocessing.LabelEncoder()"
   ]
  },
  {
   "cell_type": "code",
   "execution_count": 97,
   "id": "5d6820df-d452-4c54-b8d7-272ed83af839",
   "metadata": {},
   "outputs": [],
   "source": [
    "train_y = encoder.fit_transform(train_y)\n",
    "test_y = encoder.fit_transform(test_y)"
   ]
  },
  {
   "cell_type": "code",
   "execution_count": 98,
   "id": "1936a5db-5d59-43ab-aba0-742bc8137833",
   "metadata": {},
   "outputs": [
    {
     "data": {
      "text/plain": [
       "array([1, 0, 1, 0, 1])"
      ]
     },
     "execution_count": 98,
     "metadata": {},
     "output_type": "execute_result"
    }
   ],
   "source": [
    "train_y[0:5]"
   ]
  },
  {
   "cell_type": "code",
   "execution_count": 99,
   "id": "8a5f4a08-9f1d-4618-acf9-ed5368a88916",
   "metadata": {},
   "outputs": [
    {
     "data": {
      "text/plain": [
       "array([1, 0, 1, 0, 0])"
      ]
     },
     "execution_count": 99,
     "metadata": {},
     "output_type": "execute_result"
    }
   ],
   "source": [
    "test_y[0:5]"
   ]
  },
  {
   "cell_type": "markdown",
   "id": "f4e61a25-435c-42b1-a6b0-de67db5f440a",
   "metadata": {},
   "source": [
    "## Count Vectors"
   ]
  },
  {
   "cell_type": "code",
   "execution_count": 100,
   "id": "1491a3da-7fcc-4b0e-afe9-48cc717330f9",
   "metadata": {},
   "outputs": [
    {
     "data": {
      "text/html": [
       "<style>#sk-container-id-1 {color: black;background-color: white;}#sk-container-id-1 pre{padding: 0;}#sk-container-id-1 div.sk-toggleable {background-color: white;}#sk-container-id-1 label.sk-toggleable__label {cursor: pointer;display: block;width: 100%;margin-bottom: 0;padding: 0.3em;box-sizing: border-box;text-align: center;}#sk-container-id-1 label.sk-toggleable__label-arrow:before {content: \"▸\";float: left;margin-right: 0.25em;color: #696969;}#sk-container-id-1 label.sk-toggleable__label-arrow:hover:before {color: black;}#sk-container-id-1 div.sk-estimator:hover label.sk-toggleable__label-arrow:before {color: black;}#sk-container-id-1 div.sk-toggleable__content {max-height: 0;max-width: 0;overflow: hidden;text-align: left;background-color: #f0f8ff;}#sk-container-id-1 div.sk-toggleable__content pre {margin: 0.2em;color: black;border-radius: 0.25em;background-color: #f0f8ff;}#sk-container-id-1 input.sk-toggleable__control:checked~div.sk-toggleable__content {max-height: 200px;max-width: 100%;overflow: auto;}#sk-container-id-1 input.sk-toggleable__control:checked~label.sk-toggleable__label-arrow:before {content: \"▾\";}#sk-container-id-1 div.sk-estimator input.sk-toggleable__control:checked~label.sk-toggleable__label {background-color: #d4ebff;}#sk-container-id-1 div.sk-label input.sk-toggleable__control:checked~label.sk-toggleable__label {background-color: #d4ebff;}#sk-container-id-1 input.sk-hidden--visually {border: 0;clip: rect(1px 1px 1px 1px);clip: rect(1px, 1px, 1px, 1px);height: 1px;margin: -1px;overflow: hidden;padding: 0;position: absolute;width: 1px;}#sk-container-id-1 div.sk-estimator {font-family: monospace;background-color: #f0f8ff;border: 1px dotted black;border-radius: 0.25em;box-sizing: border-box;margin-bottom: 0.5em;}#sk-container-id-1 div.sk-estimator:hover {background-color: #d4ebff;}#sk-container-id-1 div.sk-parallel-item::after {content: \"\";width: 100%;border-bottom: 1px solid gray;flex-grow: 1;}#sk-container-id-1 div.sk-label:hover label.sk-toggleable__label {background-color: #d4ebff;}#sk-container-id-1 div.sk-serial::before {content: \"\";position: absolute;border-left: 1px solid gray;box-sizing: border-box;top: 0;bottom: 0;left: 50%;z-index: 0;}#sk-container-id-1 div.sk-serial {display: flex;flex-direction: column;align-items: center;background-color: white;padding-right: 0.2em;padding-left: 0.2em;position: relative;}#sk-container-id-1 div.sk-item {position: relative;z-index: 1;}#sk-container-id-1 div.sk-parallel {display: flex;align-items: stretch;justify-content: center;background-color: white;position: relative;}#sk-container-id-1 div.sk-item::before, #sk-container-id-1 div.sk-parallel-item::before {content: \"\";position: absolute;border-left: 1px solid gray;box-sizing: border-box;top: 0;bottom: 0;left: 50%;z-index: -1;}#sk-container-id-1 div.sk-parallel-item {display: flex;flex-direction: column;z-index: 1;position: relative;background-color: white;}#sk-container-id-1 div.sk-parallel-item:first-child::after {align-self: flex-end;width: 50%;}#sk-container-id-1 div.sk-parallel-item:last-child::after {align-self: flex-start;width: 50%;}#sk-container-id-1 div.sk-parallel-item:only-child::after {width: 0;}#sk-container-id-1 div.sk-dashed-wrapped {border: 1px dashed gray;margin: 0 0.4em 0.5em 0.4em;box-sizing: border-box;padding-bottom: 0.4em;background-color: white;}#sk-container-id-1 div.sk-label label {font-family: monospace;font-weight: bold;display: inline-block;line-height: 1.2em;}#sk-container-id-1 div.sk-label-container {text-align: center;}#sk-container-id-1 div.sk-container {/* jupyter's `normalize.less` sets `[hidden] { display: none; }` but bootstrap.min.css set `[hidden] { display: none !important; }` so we also need the `!important` here to be able to override the default hidden behavior on the sphinx rendered scikit-learn.org. See: https://github.com/scikit-learn/scikit-learn/issues/21755 */display: inline-block !important;position: relative;}#sk-container-id-1 div.sk-text-repr-fallback {display: none;}</style><div id=\"sk-container-id-1\" class=\"sk-top-container\"><div class=\"sk-text-repr-fallback\"><pre>CountVectorizer()</pre><b>In a Jupyter environment, please rerun this cell to show the HTML representation or trust the notebook. <br />On GitHub, the HTML representation is unable to render, please try loading this page with nbviewer.org.</b></div><div class=\"sk-container\" hidden><div class=\"sk-item\"><div class=\"sk-estimator sk-toggleable\"><input class=\"sk-toggleable__control sk-hidden--visually\" id=\"sk-estimator-id-1\" type=\"checkbox\" checked><label for=\"sk-estimator-id-1\" class=\"sk-toggleable__label sk-toggleable__label-arrow\">CountVectorizer</label><div class=\"sk-toggleable__content\"><pre>CountVectorizer()</pre></div></div></div></div></div>"
      ],
      "text/plain": [
       "CountVectorizer()"
      ]
     },
     "execution_count": 100,
     "metadata": {},
     "output_type": "execute_result"
    }
   ],
   "source": [
    "vectorizer = CountVectorizer()\n",
    "vectorizer.fit(train_x)"
   ]
  },
  {
   "cell_type": "code",
   "execution_count": 101,
   "id": "776fc7c6-b4bc-49d9-a967-63256d4bd0cb",
   "metadata": {},
   "outputs": [],
   "source": [
    "x_train_count = vectorizer.transform(train_x)\n",
    "x_test_count = vectorizer.transform(test_x)"
   ]
  },
  {
   "cell_type": "code",
   "execution_count": 105,
   "id": "08d83e49-67ae-4148-8b23-4e2a00663720",
   "metadata": {},
   "outputs": [
    {
     "data": {
      "text/plain": [
       "['aaa', 'aaliyah', 'abagnale', 'abandon', 'abandoned']"
      ]
     },
     "execution_count": 105,
     "metadata": {},
     "output_type": "execute_result"
    }
   ],
   "source": [
    "vectorizer.get_feature_names()[0:5]"
   ]
  },
  {
   "cell_type": "code",
   "execution_count": 106,
   "id": "613f4aeb-8031-407e-b419-b5a15fc90a94",
   "metadata": {},
   "outputs": [
    {
     "data": {
      "text/plain": [
       "array([[0, 0, 0, ..., 0, 0, 0],\n",
       "       [0, 0, 0, ..., 0, 0, 0],\n",
       "       [0, 0, 0, ..., 0, 0, 0],\n",
       "       ...,\n",
       "       [0, 0, 0, ..., 0, 0, 0],\n",
       "       [0, 0, 0, ..., 0, 0, 0],\n",
       "       [0, 0, 0, ..., 0, 0, 0]], dtype=int64)"
      ]
     },
     "execution_count": 106,
     "metadata": {},
     "output_type": "execute_result"
    }
   ],
   "source": [
    "x_train_count.toarray()"
   ]
  },
  {
   "cell_type": "markdown",
   "id": "2cfda680-be1c-4e8d-b600-a6b10bc9911e",
   "metadata": {},
   "source": [
    "# TF-IDF"
   ]
  },
  {
   "cell_type": "markdown",
   "id": "c884f87e-7fef-4d9b-bc84-92603457de0a",
   "metadata": {},
   "source": [
    "## Wordlevel"
   ]
  },
  {
   "cell_type": "code",
   "execution_count": 107,
   "id": "1f1150b3-5f2f-4e6f-b098-aaf2683087a3",
   "metadata": {},
   "outputs": [
    {
     "data": {
      "text/html": [
       "<style>#sk-container-id-2 {color: black;background-color: white;}#sk-container-id-2 pre{padding: 0;}#sk-container-id-2 div.sk-toggleable {background-color: white;}#sk-container-id-2 label.sk-toggleable__label {cursor: pointer;display: block;width: 100%;margin-bottom: 0;padding: 0.3em;box-sizing: border-box;text-align: center;}#sk-container-id-2 label.sk-toggleable__label-arrow:before {content: \"▸\";float: left;margin-right: 0.25em;color: #696969;}#sk-container-id-2 label.sk-toggleable__label-arrow:hover:before {color: black;}#sk-container-id-2 div.sk-estimator:hover label.sk-toggleable__label-arrow:before {color: black;}#sk-container-id-2 div.sk-toggleable__content {max-height: 0;max-width: 0;overflow: hidden;text-align: left;background-color: #f0f8ff;}#sk-container-id-2 div.sk-toggleable__content pre {margin: 0.2em;color: black;border-radius: 0.25em;background-color: #f0f8ff;}#sk-container-id-2 input.sk-toggleable__control:checked~div.sk-toggleable__content {max-height: 200px;max-width: 100%;overflow: auto;}#sk-container-id-2 input.sk-toggleable__control:checked~label.sk-toggleable__label-arrow:before {content: \"▾\";}#sk-container-id-2 div.sk-estimator input.sk-toggleable__control:checked~label.sk-toggleable__label {background-color: #d4ebff;}#sk-container-id-2 div.sk-label input.sk-toggleable__control:checked~label.sk-toggleable__label {background-color: #d4ebff;}#sk-container-id-2 input.sk-hidden--visually {border: 0;clip: rect(1px 1px 1px 1px);clip: rect(1px, 1px, 1px, 1px);height: 1px;margin: -1px;overflow: hidden;padding: 0;position: absolute;width: 1px;}#sk-container-id-2 div.sk-estimator {font-family: monospace;background-color: #f0f8ff;border: 1px dotted black;border-radius: 0.25em;box-sizing: border-box;margin-bottom: 0.5em;}#sk-container-id-2 div.sk-estimator:hover {background-color: #d4ebff;}#sk-container-id-2 div.sk-parallel-item::after {content: \"\";width: 100%;border-bottom: 1px solid gray;flex-grow: 1;}#sk-container-id-2 div.sk-label:hover label.sk-toggleable__label {background-color: #d4ebff;}#sk-container-id-2 div.sk-serial::before {content: \"\";position: absolute;border-left: 1px solid gray;box-sizing: border-box;top: 0;bottom: 0;left: 50%;z-index: 0;}#sk-container-id-2 div.sk-serial {display: flex;flex-direction: column;align-items: center;background-color: white;padding-right: 0.2em;padding-left: 0.2em;position: relative;}#sk-container-id-2 div.sk-item {position: relative;z-index: 1;}#sk-container-id-2 div.sk-parallel {display: flex;align-items: stretch;justify-content: center;background-color: white;position: relative;}#sk-container-id-2 div.sk-item::before, #sk-container-id-2 div.sk-parallel-item::before {content: \"\";position: absolute;border-left: 1px solid gray;box-sizing: border-box;top: 0;bottom: 0;left: 50%;z-index: -1;}#sk-container-id-2 div.sk-parallel-item {display: flex;flex-direction: column;z-index: 1;position: relative;background-color: white;}#sk-container-id-2 div.sk-parallel-item:first-child::after {align-self: flex-end;width: 50%;}#sk-container-id-2 div.sk-parallel-item:last-child::after {align-self: flex-start;width: 50%;}#sk-container-id-2 div.sk-parallel-item:only-child::after {width: 0;}#sk-container-id-2 div.sk-dashed-wrapped {border: 1px dashed gray;margin: 0 0.4em 0.5em 0.4em;box-sizing: border-box;padding-bottom: 0.4em;background-color: white;}#sk-container-id-2 div.sk-label label {font-family: monospace;font-weight: bold;display: inline-block;line-height: 1.2em;}#sk-container-id-2 div.sk-label-container {text-align: center;}#sk-container-id-2 div.sk-container {/* jupyter's `normalize.less` sets `[hidden] { display: none; }` but bootstrap.min.css set `[hidden] { display: none !important; }` so we also need the `!important` here to be able to override the default hidden behavior on the sphinx rendered scikit-learn.org. See: https://github.com/scikit-learn/scikit-learn/issues/21755 */display: inline-block !important;position: relative;}#sk-container-id-2 div.sk-text-repr-fallback {display: none;}</style><div id=\"sk-container-id-2\" class=\"sk-top-container\"><div class=\"sk-text-repr-fallback\"><pre>TfidfVectorizer()</pre><b>In a Jupyter environment, please rerun this cell to show the HTML representation or trust the notebook. <br />On GitHub, the HTML representation is unable to render, please try loading this page with nbviewer.org.</b></div><div class=\"sk-container\" hidden><div class=\"sk-item\"><div class=\"sk-estimator sk-toggleable\"><input class=\"sk-toggleable__control sk-hidden--visually\" id=\"sk-estimator-id-2\" type=\"checkbox\" checked><label for=\"sk-estimator-id-2\" class=\"sk-toggleable__label sk-toggleable__label-arrow\">TfidfVectorizer</label><div class=\"sk-toggleable__content\"><pre>TfidfVectorizer()</pre></div></div></div></div></div>"
      ],
      "text/plain": [
       "TfidfVectorizer()"
      ]
     },
     "execution_count": 107,
     "metadata": {},
     "output_type": "execute_result"
    }
   ],
   "source": [
    "tf_idf_word_vectorizer = TfidfVectorizer()\n",
    "tf_idf_word_vectorizer.fit(train_x)"
   ]
  },
  {
   "cell_type": "code",
   "execution_count": 108,
   "id": "7be69df1-2c0b-4a18-b040-95e6fed88094",
   "metadata": {},
   "outputs": [],
   "source": [
    "x_train_tf_idf_word = tf_idf_word_vectorizer.transform(train_x)\n",
    "x_test_tf_idf_word = tf_idf_word_vectorizer.transform(test_x)"
   ]
  },
  {
   "cell_type": "code",
   "execution_count": 109,
   "id": "0014c0b0-4003-44ea-a6e0-23cb72a0989d",
   "metadata": {},
   "outputs": [
    {
     "data": {
      "text/plain": [
       "['aaa', 'aaliyah', 'abagnale', 'abandon', 'abandoned']"
      ]
     },
     "execution_count": 109,
     "metadata": {},
     "output_type": "execute_result"
    }
   ],
   "source": [
    "tf_idf_word_vectorizer.get_feature_names()[0:5]"
   ]
  },
  {
   "cell_type": "code",
   "execution_count": 110,
   "id": "464e0e2d-9c9a-4fa7-b278-1953244f116d",
   "metadata": {},
   "outputs": [
    {
     "data": {
      "text/plain": [
       "array([[0., 0., 0., ..., 0., 0., 0.],\n",
       "       [0., 0., 0., ..., 0., 0., 0.],\n",
       "       [0., 0., 0., ..., 0., 0., 0.],\n",
       "       ...,\n",
       "       [0., 0., 0., ..., 0., 0., 0.],\n",
       "       [0., 0., 0., ..., 0., 0., 0.],\n",
       "       [0., 0., 0., ..., 0., 0., 0.]])"
      ]
     },
     "execution_count": 110,
     "metadata": {},
     "output_type": "execute_result"
    }
   ],
   "source": [
    "x_train_tf_idf_word.toarray()"
   ]
  },
  {
   "cell_type": "markdown",
   "id": "d36f8246-c098-4b57-9d4e-a98d05339abf",
   "metadata": {},
   "source": [
    "## Ngram level tf idf"
   ]
  },
  {
   "cell_type": "code",
   "execution_count": 111,
   "id": "e508d175-b0f6-4129-855d-3b55dd9d0df9",
   "metadata": {},
   "outputs": [
    {
     "data": {
      "text/html": [
       "<style>#sk-container-id-3 {color: black;background-color: white;}#sk-container-id-3 pre{padding: 0;}#sk-container-id-3 div.sk-toggleable {background-color: white;}#sk-container-id-3 label.sk-toggleable__label {cursor: pointer;display: block;width: 100%;margin-bottom: 0;padding: 0.3em;box-sizing: border-box;text-align: center;}#sk-container-id-3 label.sk-toggleable__label-arrow:before {content: \"▸\";float: left;margin-right: 0.25em;color: #696969;}#sk-container-id-3 label.sk-toggleable__label-arrow:hover:before {color: black;}#sk-container-id-3 div.sk-estimator:hover label.sk-toggleable__label-arrow:before {color: black;}#sk-container-id-3 div.sk-toggleable__content {max-height: 0;max-width: 0;overflow: hidden;text-align: left;background-color: #f0f8ff;}#sk-container-id-3 div.sk-toggleable__content pre {margin: 0.2em;color: black;border-radius: 0.25em;background-color: #f0f8ff;}#sk-container-id-3 input.sk-toggleable__control:checked~div.sk-toggleable__content {max-height: 200px;max-width: 100%;overflow: auto;}#sk-container-id-3 input.sk-toggleable__control:checked~label.sk-toggleable__label-arrow:before {content: \"▾\";}#sk-container-id-3 div.sk-estimator input.sk-toggleable__control:checked~label.sk-toggleable__label {background-color: #d4ebff;}#sk-container-id-3 div.sk-label input.sk-toggleable__control:checked~label.sk-toggleable__label {background-color: #d4ebff;}#sk-container-id-3 input.sk-hidden--visually {border: 0;clip: rect(1px 1px 1px 1px);clip: rect(1px, 1px, 1px, 1px);height: 1px;margin: -1px;overflow: hidden;padding: 0;position: absolute;width: 1px;}#sk-container-id-3 div.sk-estimator {font-family: monospace;background-color: #f0f8ff;border: 1px dotted black;border-radius: 0.25em;box-sizing: border-box;margin-bottom: 0.5em;}#sk-container-id-3 div.sk-estimator:hover {background-color: #d4ebff;}#sk-container-id-3 div.sk-parallel-item::after {content: \"\";width: 100%;border-bottom: 1px solid gray;flex-grow: 1;}#sk-container-id-3 div.sk-label:hover label.sk-toggleable__label {background-color: #d4ebff;}#sk-container-id-3 div.sk-serial::before {content: \"\";position: absolute;border-left: 1px solid gray;box-sizing: border-box;top: 0;bottom: 0;left: 50%;z-index: 0;}#sk-container-id-3 div.sk-serial {display: flex;flex-direction: column;align-items: center;background-color: white;padding-right: 0.2em;padding-left: 0.2em;position: relative;}#sk-container-id-3 div.sk-item {position: relative;z-index: 1;}#sk-container-id-3 div.sk-parallel {display: flex;align-items: stretch;justify-content: center;background-color: white;position: relative;}#sk-container-id-3 div.sk-item::before, #sk-container-id-3 div.sk-parallel-item::before {content: \"\";position: absolute;border-left: 1px solid gray;box-sizing: border-box;top: 0;bottom: 0;left: 50%;z-index: -1;}#sk-container-id-3 div.sk-parallel-item {display: flex;flex-direction: column;z-index: 1;position: relative;background-color: white;}#sk-container-id-3 div.sk-parallel-item:first-child::after {align-self: flex-end;width: 50%;}#sk-container-id-3 div.sk-parallel-item:last-child::after {align-self: flex-start;width: 50%;}#sk-container-id-3 div.sk-parallel-item:only-child::after {width: 0;}#sk-container-id-3 div.sk-dashed-wrapped {border: 1px dashed gray;margin: 0 0.4em 0.5em 0.4em;box-sizing: border-box;padding-bottom: 0.4em;background-color: white;}#sk-container-id-3 div.sk-label label {font-family: monospace;font-weight: bold;display: inline-block;line-height: 1.2em;}#sk-container-id-3 div.sk-label-container {text-align: center;}#sk-container-id-3 div.sk-container {/* jupyter's `normalize.less` sets `[hidden] { display: none; }` but bootstrap.min.css set `[hidden] { display: none !important; }` so we also need the `!important` here to be able to override the default hidden behavior on the sphinx rendered scikit-learn.org. See: https://github.com/scikit-learn/scikit-learn/issues/21755 */display: inline-block !important;position: relative;}#sk-container-id-3 div.sk-text-repr-fallback {display: none;}</style><div id=\"sk-container-id-3\" class=\"sk-top-container\"><div class=\"sk-text-repr-fallback\"><pre>TfidfVectorizer(ngram_range=(2, 3))</pre><b>In a Jupyter environment, please rerun this cell to show the HTML representation or trust the notebook. <br />On GitHub, the HTML representation is unable to render, please try loading this page with nbviewer.org.</b></div><div class=\"sk-container\" hidden><div class=\"sk-item\"><div class=\"sk-estimator sk-toggleable\"><input class=\"sk-toggleable__control sk-hidden--visually\" id=\"sk-estimator-id-3\" type=\"checkbox\" checked><label for=\"sk-estimator-id-3\" class=\"sk-toggleable__label sk-toggleable__label-arrow\">TfidfVectorizer</label><div class=\"sk-toggleable__content\"><pre>TfidfVectorizer(ngram_range=(2, 3))</pre></div></div></div></div></div>"
      ],
      "text/plain": [
       "TfidfVectorizer(ngram_range=(2, 3))"
      ]
     },
     "execution_count": 111,
     "metadata": {},
     "output_type": "execute_result"
    }
   ],
   "source": [
    "tf_idf_ngram_vectorizer = TfidfVectorizer(ngram_range = (2,3))\n",
    "tf_idf_ngram_vectorizer.fit(train_x)"
   ]
  },
  {
   "cell_type": "code",
   "execution_count": 112,
   "id": "f3125384-8aca-4c49-8181-e6ea5c18f0b5",
   "metadata": {},
   "outputs": [],
   "source": [
    "x_train_tf_idf_ngram = tf_idf_ngram_vectorizer.transform(train_x)\n",
    "x_test_tf_idf_ngram = tf_idf_ngram_vectorizer.transform(test_x)"
   ]
  },
  {
   "cell_type": "markdown",
   "id": "e6a5186f-d606-4580-8a23-aad010a66569",
   "metadata": {},
   "source": [
    "## characters level tf-idf"
   ]
  },
  {
   "cell_type": "code",
   "execution_count": 113,
   "id": "a1e22a73-3934-412a-a39e-338b314b57cf",
   "metadata": {},
   "outputs": [
    {
     "data": {
      "text/html": [
       "<style>#sk-container-id-4 {color: black;background-color: white;}#sk-container-id-4 pre{padding: 0;}#sk-container-id-4 div.sk-toggleable {background-color: white;}#sk-container-id-4 label.sk-toggleable__label {cursor: pointer;display: block;width: 100%;margin-bottom: 0;padding: 0.3em;box-sizing: border-box;text-align: center;}#sk-container-id-4 label.sk-toggleable__label-arrow:before {content: \"▸\";float: left;margin-right: 0.25em;color: #696969;}#sk-container-id-4 label.sk-toggleable__label-arrow:hover:before {color: black;}#sk-container-id-4 div.sk-estimator:hover label.sk-toggleable__label-arrow:before {color: black;}#sk-container-id-4 div.sk-toggleable__content {max-height: 0;max-width: 0;overflow: hidden;text-align: left;background-color: #f0f8ff;}#sk-container-id-4 div.sk-toggleable__content pre {margin: 0.2em;color: black;border-radius: 0.25em;background-color: #f0f8ff;}#sk-container-id-4 input.sk-toggleable__control:checked~div.sk-toggleable__content {max-height: 200px;max-width: 100%;overflow: auto;}#sk-container-id-4 input.sk-toggleable__control:checked~label.sk-toggleable__label-arrow:before {content: \"▾\";}#sk-container-id-4 div.sk-estimator input.sk-toggleable__control:checked~label.sk-toggleable__label {background-color: #d4ebff;}#sk-container-id-4 div.sk-label input.sk-toggleable__control:checked~label.sk-toggleable__label {background-color: #d4ebff;}#sk-container-id-4 input.sk-hidden--visually {border: 0;clip: rect(1px 1px 1px 1px);clip: rect(1px, 1px, 1px, 1px);height: 1px;margin: -1px;overflow: hidden;padding: 0;position: absolute;width: 1px;}#sk-container-id-4 div.sk-estimator {font-family: monospace;background-color: #f0f8ff;border: 1px dotted black;border-radius: 0.25em;box-sizing: border-box;margin-bottom: 0.5em;}#sk-container-id-4 div.sk-estimator:hover {background-color: #d4ebff;}#sk-container-id-4 div.sk-parallel-item::after {content: \"\";width: 100%;border-bottom: 1px solid gray;flex-grow: 1;}#sk-container-id-4 div.sk-label:hover label.sk-toggleable__label {background-color: #d4ebff;}#sk-container-id-4 div.sk-serial::before {content: \"\";position: absolute;border-left: 1px solid gray;box-sizing: border-box;top: 0;bottom: 0;left: 50%;z-index: 0;}#sk-container-id-4 div.sk-serial {display: flex;flex-direction: column;align-items: center;background-color: white;padding-right: 0.2em;padding-left: 0.2em;position: relative;}#sk-container-id-4 div.sk-item {position: relative;z-index: 1;}#sk-container-id-4 div.sk-parallel {display: flex;align-items: stretch;justify-content: center;background-color: white;position: relative;}#sk-container-id-4 div.sk-item::before, #sk-container-id-4 div.sk-parallel-item::before {content: \"\";position: absolute;border-left: 1px solid gray;box-sizing: border-box;top: 0;bottom: 0;left: 50%;z-index: -1;}#sk-container-id-4 div.sk-parallel-item {display: flex;flex-direction: column;z-index: 1;position: relative;background-color: white;}#sk-container-id-4 div.sk-parallel-item:first-child::after {align-self: flex-end;width: 50%;}#sk-container-id-4 div.sk-parallel-item:last-child::after {align-self: flex-start;width: 50%;}#sk-container-id-4 div.sk-parallel-item:only-child::after {width: 0;}#sk-container-id-4 div.sk-dashed-wrapped {border: 1px dashed gray;margin: 0 0.4em 0.5em 0.4em;box-sizing: border-box;padding-bottom: 0.4em;background-color: white;}#sk-container-id-4 div.sk-label label {font-family: monospace;font-weight: bold;display: inline-block;line-height: 1.2em;}#sk-container-id-4 div.sk-label-container {text-align: center;}#sk-container-id-4 div.sk-container {/* jupyter's `normalize.less` sets `[hidden] { display: none; }` but bootstrap.min.css set `[hidden] { display: none !important; }` so we also need the `!important` here to be able to override the default hidden behavior on the sphinx rendered scikit-learn.org. See: https://github.com/scikit-learn/scikit-learn/issues/21755 */display: inline-block !important;position: relative;}#sk-container-id-4 div.sk-text-repr-fallback {display: none;}</style><div id=\"sk-container-id-4\" class=\"sk-top-container\"><div class=\"sk-text-repr-fallback\"><pre>TfidfVectorizer(analyzer=&#x27;char&#x27;, ngram_range=(2, 3))</pre><b>In a Jupyter environment, please rerun this cell to show the HTML representation or trust the notebook. <br />On GitHub, the HTML representation is unable to render, please try loading this page with nbviewer.org.</b></div><div class=\"sk-container\" hidden><div class=\"sk-item\"><div class=\"sk-estimator sk-toggleable\"><input class=\"sk-toggleable__control sk-hidden--visually\" id=\"sk-estimator-id-4\" type=\"checkbox\" checked><label for=\"sk-estimator-id-4\" class=\"sk-toggleable__label sk-toggleable__label-arrow\">TfidfVectorizer</label><div class=\"sk-toggleable__content\"><pre>TfidfVectorizer(analyzer=&#x27;char&#x27;, ngram_range=(2, 3))</pre></div></div></div></div></div>"
      ],
      "text/plain": [
       "TfidfVectorizer(analyzer='char', ngram_range=(2, 3))"
      ]
     },
     "execution_count": 113,
     "metadata": {},
     "output_type": "execute_result"
    }
   ],
   "source": [
    "tf_idf_chars_vectorizer = TfidfVectorizer(analyzer = \"char\", ngram_range = (2,3))\n",
    "tf_idf_chars_vectorizer.fit(train_x)"
   ]
  },
  {
   "cell_type": "code",
   "execution_count": 114,
   "id": "0c77f0f3-cc59-4ee0-a2b3-131eabdc16ec",
   "metadata": {},
   "outputs": [],
   "source": [
    "x_train_tf_idf_chars = tf_idf_chars_vectorizer.transform(train_x)\n",
    "x_test_tf_idf_chars = tf_idf_chars_vectorizer.transform(test_x)"
   ]
  },
  {
   "cell_type": "markdown",
   "id": "d6d26235-e0c8-4cfb-bb2a-f71526ea9633",
   "metadata": {},
   "source": [
    "# Sentiment Classification with Machine Learning"
   ]
  },
  {
   "cell_type": "markdown",
   "id": "e62414b9-2ff4-4957-8187-a20fb0610540",
   "metadata": {},
   "source": [
    "## Lojistik Regresyon"
   ]
  },
  {
   "cell_type": "code",
   "execution_count": 116,
   "id": "04b57ebe-7cd3-4676-847e-de5adce69d29",
   "metadata": {},
   "outputs": [
    {
     "name": "stdout",
     "output_type": "stream",
     "text": [
      "Count Vectors Accurcy Score: 0.8368200836820083\n"
     ]
    }
   ],
   "source": [
    "loj = linear_model.LogisticRegression()\n",
    "loj_model = loj.fit(x_train_count, train_y)\n",
    "accuracy = model_selection.cross_val_score(loj_model, \n",
    "                                           x_test_count, \n",
    "                                           test_y, \n",
    "                                           cv = 10).mean()\n",
    "\n",
    "print(\"Count Vectors Accurcy Score:\", accuracy)"
   ]
  },
  {
   "cell_type": "code",
   "execution_count": 117,
   "id": "967b405d-db95-4c20-9f21-75faddd399e2",
   "metadata": {},
   "outputs": [
    {
     "name": "stdout",
     "output_type": "stream",
     "text": [
      "Word-Level TF-IDF Accurcy Score: 0.8331589958158995\n"
     ]
    }
   ],
   "source": [
    "loj = linear_model.LogisticRegression()\n",
    "loj_model = loj.fit(x_train_tf_idf_word,train_y)\n",
    "accuracy = model_selection.cross_val_score(loj_model, \n",
    "                                           x_test_tf_idf_word, \n",
    "                                           test_y, \n",
    "                                           cv = 10).mean()\n",
    "\n",
    "print(\"Word-Level TF-IDF Accurcy Score:\", accuracy)"
   ]
  },
  {
   "cell_type": "code",
   "execution_count": 118,
   "id": "c3da718b-7f7e-408e-96af-d7fafe5d67f6",
   "metadata": {},
   "outputs": [
    {
     "name": "stdout",
     "output_type": "stream",
     "text": [
      "N-GRAM TF-IDF Accurcy Score: 0.748326359832636\n"
     ]
    }
   ],
   "source": [
    "loj = linear_model.LogisticRegression()\n",
    "loj_model = loj.fit(x_train_tf_idf_ngram,train_y)\n",
    "accuracy = model_selection.cross_val_score(loj_model, \n",
    "                                           x_test_tf_idf_ngram, \n",
    "                                           test_y, \n",
    "                                           cv = 10).mean()\n",
    "\n",
    "print(\"N-GRAM TF-IDF Accurcy Score:\", accuracy)"
   ]
  },
  {
   "cell_type": "code",
   "execution_count": 119,
   "id": "8d23d86e-80df-4871-bdc3-c99ff9b4cdc0",
   "metadata": {},
   "outputs": [
    {
     "name": "stdout",
     "output_type": "stream",
     "text": [
      "CHARLEVEL Accurcy Score: 0.7811192468619247\n"
     ]
    }
   ],
   "source": [
    "loj = linear_model.LogisticRegression()\n",
    "loj_model = loj.fit(x_train_tf_idf_chars,train_y)\n",
    "accuracy = model_selection.cross_val_score(loj_model, \n",
    "                                           x_test_tf_idf_chars, \n",
    "                                           test_y, \n",
    "                                           cv = 10).mean()\n",
    "\n",
    "print(\"CHARLEVEL Accurcy Score:\", accuracy)"
   ]
  },
  {
   "cell_type": "markdown",
   "id": "5643d1d9-6eb7-4f65-a830-17c4ac9ad543",
   "metadata": {},
   "source": [
    "## Naive Bayes"
   ]
  },
  {
   "cell_type": "code",
   "execution_count": 120,
   "id": "8f996bf4-ccfd-40a5-a36b-f973213fa3b6",
   "metadata": {},
   "outputs": [
    {
     "name": "stdout",
     "output_type": "stream",
     "text": [
      "Count Vectors Accuracy: 0.8332112970711296\n"
     ]
    }
   ],
   "source": [
    "nb = naive_bayes.MultinomialNB()\n",
    "nb_model = nb.fit(x_train_count,train_y)\n",
    "accuracy = model_selection.cross_val_score(nb_model, \n",
    "                                           x_test_count, \n",
    "                                           test_y, \n",
    "                                           cv = 10).mean()\n",
    "\n",
    "print(\"Count Vectors Accuracy:\", accuracy)"
   ]
  },
  {
   "cell_type": "code",
   "execution_count": 121,
   "id": "2608b701-76ba-46a7-865b-1d16d44585a2",
   "metadata": {},
   "outputs": [
    {
     "name": "stdout",
     "output_type": "stream",
     "text": [
      "Word-Level TF-IDF Accuracy Score: 0.835041841004184\n"
     ]
    }
   ],
   "source": [
    "nb = naive_bayes.MultinomialNB()\n",
    "nb_model = nb.fit(x_train_tf_idf_word,train_y)\n",
    "accuracy = model_selection.cross_val_score(nb_model, \n",
    "                                           x_test_tf_idf_word, \n",
    "                                           test_y, \n",
    "                                           cv = 10).mean()\n",
    "\n",
    "print(\"Word-Level TF-IDF Accuracy Score:\", accuracy)"
   ]
  },
  {
   "cell_type": "code",
   "execution_count": 123,
   "id": "98159892-f67d-4845-a721-4ec708061a89",
   "metadata": {},
   "outputs": [
    {
     "name": "stdout",
     "output_type": "stream",
     "text": [
      "N-GRAM TF-IDF  Accuracy Score: 0.7685146443514643\n"
     ]
    }
   ],
   "source": [
    "nb = naive_bayes.MultinomialNB()\n",
    "nb_model = nb.fit(x_train_tf_idf_ngram,train_y)\n",
    "accuracy = model_selection.cross_val_score(nb_model, \n",
    "                                           x_test_tf_idf_ngram, \n",
    "                                           test_y, \n",
    "                                           cv = 10).mean()\n",
    "\n",
    "print(\"N-GRAM TF-IDF  Accuracy Score:\", accuracy)"
   ]
  },
  {
   "cell_type": "code",
   "execution_count": 124,
   "id": "a515c93f-6f27-4fa2-8134-85536f1d6dda",
   "metadata": {},
   "outputs": [
    {
     "name": "stdout",
     "output_type": "stream",
     "text": [
      "CHARLEVEL Accuracy Score: 0.7557008368200837\n"
     ]
    }
   ],
   "source": [
    "nb = naive_bayes.MultinomialNB()\n",
    "nb_model = nb.fit(x_train_tf_idf_chars,train_y)\n",
    "accuracy = model_selection.cross_val_score(nb_model, \n",
    "                                           x_test_tf_idf_chars, \n",
    "                                           test_y, \n",
    "                                           cv = 10).mean()\n",
    "\n",
    "print(\"CHARLEVEL Accuracy Score:\", accuracy)"
   ]
  },
  {
   "cell_type": "code",
   "execution_count": null,
   "id": "1a3129cb-737c-4830-8877-341d7caf7ac2",
   "metadata": {},
   "outputs": [],
   "source": []
  }
 ],
 "metadata": {
  "kernelspec": {
   "display_name": "Python 3 (ipykernel)",
   "language": "python",
   "name": "python3"
  },
  "language_info": {
   "codemirror_mode": {
    "name": "ipython",
    "version": 3
   },
   "file_extension": ".py",
   "mimetype": "text/x-python",
   "name": "python",
   "nbconvert_exporter": "python",
   "pygments_lexer": "ipython3",
   "version": "3.9.7"
  }
 },
 "nbformat": 4,
 "nbformat_minor": 5
}
